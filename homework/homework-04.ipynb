{
  "cells": [
    {
      "cell_type": "markdown",
      "metadata": {
        "id": "_Mr3AvSgSswx"
      },
      "source": [
        "# Homework 4 - Functions"
      ]
    },
    {
      "cell_type": "markdown",
      "metadata": {
        "id": "w1t0weuGbbhA"
      },
      "source": [
        "**Instructions:** Complete the exercises below.\n",
        "\n",
        "1. Make a copy of this Colab Notebook using **`File -> Save a copy in Drive`**.\n",
        "\n",
        "2. Answer the exercise questions below. Type your answers to each question by double-clicking on **`Your Answer`** and typing your response.\n",
        "\n",
        "    Note that you can use any combination of plain text, Markdown, or LaTeX. As a last resort, you can simply take a picture of your handwritten work and upload it to an answer cell below.\n",
        "\n",
        "3. To submit your work, turn in the URL for your Colab notebook by clicking \"Share\" then \"Copy Link\"."
      ]
    },
    {
      "cell_type": "markdown",
      "metadata": {
        "id": "bEsUKV6DbbhB"
      },
      "source": [
        "**Note**:\n",
        "Sample solutions are provided in order to help you **learn**. The purpose of these exercises is not to simply turn in the answers, but to take the time and effort to learn and understand the material. You are encouraged to work the problems first, then when you are satisfied that you have the correct answer, look at the sample solution and compare it with yours."
      ]
    },
    {
      "cell_type": "markdown",
      "metadata": {
        "id": "hkfyl34HJfGt"
      },
      "source": [
        "As you complete the problems below, you may use Python whenever you can think of a way it could help you answer the question."
      ]
    },
    {
      "cell_type": "markdown",
      "metadata": {
        "id": "Ps9VWGU6w5PO"
      },
      "source": [
        "### Exercise 4.1"
      ]
    },
    {
      "cell_type": "markdown",
      "metadata": {
        "id": "8Utd8McNw5PO"
      },
      "source": [
        "What is the target or codomain of the following functions if the domain is $\\mathbb{Z}^{+}$? You may express your answer using a plain English description or using set builder notation.\n",
        "\n",
        "1. $f(x) = \\sqrt{x}$\n",
        "2. $f(x) = 2x$\n",
        "3. $f(x) = 2x + 1$\n",
        "4. $f(x) = \\frac{1}{x}$"
      ]
    },
    {
      "cell_type": "markdown",
      "metadata": {
        "id": "iRX6sYjAbbhN"
      },
      "source": [
        "1. The positive real numbers  $ \\mathbb{R}^ {+} $\n",
        "\n",
        "2. The set of even integers greater than 0\n",
        "\n",
        "3. The set of odd integers greater than 0\n",
        "\n",
        "4. The set of positive rational numbers $\\mathbb{Q}^+$"
      ]
    },
    {
      "cell_type": "markdown",
      "metadata": {
        "id": "lT96JrqLJfGu"
      },
      "source": [
        "### Exercise 4.2"
      ]
    },
    {
      "cell_type": "markdown",
      "metadata": {
        "id": "NwV3vPBNJfGu"
      },
      "source": [
        "Let $A = \\{1,2,3,4\\}$ and $B=\\{a,b,c,d\\}$. Determine which of the following are well-defined functions. If it is a function, determine whether it is onto, one-to-one, both, or neither. Explain your reasoning.\n",
        "\n",
        "1. $f: A \\rightarrow B$, where $ f = \\{(1,a), (2,b), (3,c), (4,d)\\}$\n",
        "2. $f: A \\rightarrow B$, where $ f = \\{(1,a), (2,a), (3,b), (4,d)\\}$\n",
        "3. $f: A \\rightarrow B$, where $ f = \\{(1,a), (2,b), (3,c)\\}$\n",
        "4. $f: A \\rightarrow B$, where $ f = \\{(1,a), (2,b), (2,c), (3,a), (4,a)\\}$\n",
        "5. $f: A \\rightarrow A$, where $ f = \\{(1,1), (2,1), (3,1), (4,1) \\}$\n",
        "\n",
        "\n",
        "\n",
        "Question adapted from [Applied Discrete Structures](https://discretemath.org/) by Alan Doerr & Kenneth Levasseur which is licensed under a [Creative Commons Attribution-NonCommercial-ShareAlike 3.0 United States License](http://creativecommons.org/licenses/by-nc-sa/3.0/us/)."
      ]
    },
    {
      "cell_type": "markdown",
      "metadata": {
        "id": "H5wsW-7yJfGu"
      },
      "source": [
        "\n",
        "1.  This is a function. It is both one-to-one and onto.\n",
        "\n",
        "2.  This is a function. It is **neither** one-to-one nor onto.\n",
        "\n",
        "3. Not a function (domain element 4 has no output)\n",
        "\n",
        "4.  Not a function (violates definition of a function)\n",
        "\n",
        "5.  This is a function. It is **neither** one-to-one nor onto."
      ]
    },
    {
      "cell_type": "markdown",
      "metadata": {
        "id": "tUGS2IzcJfGu"
      },
      "source": [
        "### Exercise 4.3"
      ]
    },
    {
      "cell_type": "markdown",
      "metadata": {
        "id": "Su8CI4H8jpXo"
      },
      "source": [
        "Look up the definitions of the following Python builtin functions and describe their domains and codomains using regular English. Not all of these will be sets of numbers.\n",
        "* ```abs```\n",
        "* ```chr```\n",
        "* ```int```\n",
        "* ```len```\n",
        "* ```pow```\n",
        "\n",
        "The notation $f : D \\longrightarrow C$ is the math &ldquo;signature&rdquo; for a function $f$ that takes its domain $D$ to its codomain $C$. The sets $D$ and $C$ can be the same set or different sets. Which of these five Python builtin functions best matches the function signature $f : \\mathbb{Z} \\longrightarrow \\mathbb{N}$?\n"
      ]
    },
    {
      "cell_type": "markdown",
      "metadata": {
        "id": "Lgm-JhoKJfGv"
      },
      "source": [
        "The `abs()` function takes any integer and returns its absolute value, so its domain is the integers and its codomain is the non-negative integers. This best matches the function signature $ f: \\mathbb{Z} \\rightarrow \\mathbb{N}$\n",
        "\n",
        "The `chr()` function takes an integer from 0 to 1,114,111 and returns a Unicode character, so its domain is a range of integers and its codomain is characters.\n",
        "\n",
        "The `int()` function converts values like strings, floats, and booleans into integers, so its domain is mixed types and its codomain is integers.\n",
        "\n",
        "The `len()` function takes sequences like strings or lists and returns their length, so its domain is sequences and its codomain is non-negative integers.\n",
        "\n",
        "The `pow()` function takes numbers (a base and an exponent) and returns the result, so its domain is numeric pairs and its codomain is also numbers.\n",
        "\n",
        "The function that best matches $f: \\mathbb{Z} \\rightarrow \\mathbb{N} $ is `abs()`."
      ]
    },
    {
      "cell_type": "markdown",
      "metadata": {
        "id": "D_u5yxTqJfGv"
      },
      "source": [
        "### Exercise 4.4"
      ]
    },
    {
      "cell_type": "markdown",
      "metadata": {
        "id": "XYFTydEMJfGv"
      },
      "source": [
        "Python has built-in `floor` and `ceil` functions as part of the `math` module."
      ]
    },
    {
      "cell_type": "code",
      "execution_count": 1,
      "metadata": {
        "colab": {
          "base_uri": "https://localhost:8080/"
        },
        "id": "02hcdFceJfGv",
        "outputId": "d1f57df1-cb71-43a3-e8ed-28e295227bf7"
      },
      "outputs": [
        {
          "output_type": "stream",
          "name": "stdout",
          "text": [
            "2\n",
            "2\n"
          ]
        }
      ],
      "source": [
        "from math import floor\n",
        "from math import ceil\n",
        "\n",
        "print(floor(2.9))\n",
        "print(ceil(1.1))"
      ]
    },
    {
      "cell_type": "markdown",
      "metadata": {
        "id": "VjmvhjlWJfGv"
      },
      "source": [
        "Implement your own `floor` and `ceil` functions, but call them `floor1` and `ceil1` to avoid confusion with the built-in Python functions. You'll know your functions are working correctly if the `test_floor_ceiling` function results in `True`. (Hint: What happens if you convert a floating point number to an integer in Python using the `int()` function?)"
      ]
    },
    {
      "cell_type": "markdown",
      "metadata": {
        "id": "YOGnwwWNJfGw"
      },
      "source": [
        "#### Your Answer:"
      ]
    },
    {
      "cell_type": "code",
      "execution_count": 9,
      "metadata": {
        "colab": {
          "base_uri": "https://localhost:8080/"
        },
        "id": "v1i7JKmsJfGw",
        "outputId": "6705c552-d4bf-4985-bbcd-27f262f9b5a3"
      },
      "outputs": [
        {
          "output_type": "stream",
          "name": "stdout",
          "text": [
            "True\n"
          ]
        }
      ],
      "source": [
        "def floor1(x):\n",
        "  return x // 1\n",
        "\n",
        "\n",
        "def ceil1(x):\n",
        "  return -(-x//1)\n",
        "def test_floor_ceiling():\n",
        "    \"\"\"Test the floor1 and ceil1 functions.\n",
        "    Do not modify this function. It will return\n",
        "    True if your floor1 and ceil1 functions are\n",
        "    correct.\n",
        "\n",
        "    Returns:\n",
        "        bool: True if all tests pass\n",
        "    \"\"\"\n",
        "    return (\n",
        "        floor1(2) == 2\n",
        "        and floor1(-2) == -2\n",
        "        and floor1(-1.1) == -2\n",
        "        and floor1(-1.9) == -2\n",
        "        and floor1(1.9) == 1\n",
        "        and floor1(1.1) == 1\n",
        "        and ceil1(2) == 2\n",
        "        and ceil1(-2) == -2\n",
        "        and ceil1(1.1) == 2\n",
        "        and ceil1(1.9) == 2\n",
        "        and ceil1(-1.1) == -1\n",
        "        and ceil1(-1.9) == -1\n",
        "    )\n",
        "\n",
        "print(test_floor_ceiling())"
      ]
    },
    {
      "cell_type": "markdown",
      "metadata": {
        "id": "5o-TCvRhJfGw"
      },
      "source": [
        "### Exercise 4.5"
      ]
    },
    {
      "cell_type": "markdown",
      "metadata": {
        "id": "-mEt8I92JfGw"
      },
      "source": [
        "Which of the following are one-to-one, onto, or both? Feel free to write some Python code to help you decide.\n",
        "\n",
        "1. $f : \\mathbb{R} \\rightarrow \\mathbb{R}$ where $f(x) = x^3 - x$\n",
        "2. $f : \\mathbb{Z} \\rightarrow \\mathbb{Z}$ where $f(x) = -x + 2$\n",
        "3. $f : \\mathbb{N} \\times \\mathbb{N} \\rightarrow \\mathbb{Z}$ where $f(i,j) = 2^i 3^j $\n",
        "4. $f : \\mathbb{Z^+} \\rightarrow \\mathbb{Z^+}$ where $f(n) = \\lceil n/2 \\rceil$\n",
        "5. $f : \\mathbb{N} \\rightarrow \\mathbb{N}$ where $f(n) = n^2 + n$\n",
        "6. $f : \\mathbb{N} \\rightarrow \\mathbb{N} \\times \\mathbb{N}$ where $f(n) = (2n, 2n+1)$\n",
        "\n",
        "\n",
        "\n",
        "\n",
        "\n",
        "\n",
        "\n",
        "Question adapted from [Applied Discrete Structures](https://discretemath.org/) by Alan Doerr & Kenneth Levasseur which is licensed under a [Creative Commons Attribution-NonCommercial-ShareAlike 3.0 United States License](http://creativecommons.org/licenses/by-nc-sa/3.0/us/)."
      ]
    },
    {
      "cell_type": "markdown",
      "metadata": {
        "id": "68SUM4AFJfGw"
      },
      "source": [
        "1. Onto only  \n",
        "2. One-to-one and onto  \n",
        "3. One-to-one only  \n",
        "4. Onto only  \n",
        "5. One-to-one only  \n",
        "6. One-to-one only"
      ]
    },
    {
      "cell_type": "markdown",
      "metadata": {
        "id": "Cr91vBtJJfGw"
      },
      "source": [
        "----------------------"
      ]
    },
    {
      "cell_type": "markdown",
      "metadata": {
        "id": "UijA8yYxJfGw"
      },
      "source": [
        "### Introduction to *lambda* functions"
      ]
    },
    {
      "cell_type": "markdown",
      "metadata": {
        "id": "Zx7naNp5JfGw"
      },
      "source": [
        "Python allows the creation of small *anonymous* functions using the `lambda` keyword. These functions are restricted to a single expression and have an implicit return statement.\n",
        "\n",
        "For example, the following anonymous function takes two parameters, `a` and `b`, then returns their sum."
      ]
    },
    {
      "cell_type": "code",
      "execution_count": null,
      "metadata": {
        "id": "zuUyEur3JfGw"
      },
      "outputs": [],
      "source": [
        "lambda a, b: a+b"
      ]
    },
    {
      "cell_type": "markdown",
      "metadata": {
        "id": "3lPt9budJfGw"
      },
      "source": [
        "On its own, this function doesn't do much. But if we assign it to a variable, then we can call it just like a regular Python function."
      ]
    },
    {
      "cell_type": "code",
      "execution_count": null,
      "metadata": {
        "id": "hSVSMwapJfGx"
      },
      "outputs": [],
      "source": [
        "# Assign an anonymous function to a variable\n",
        "adder = lambda a, b: a + b\n",
        "\n",
        "# Call the function just like a normal Python function\n",
        "adder(3, 5) # returns 8"
      ]
    },
    {
      "cell_type": "markdown",
      "metadata": {
        "id": "dbu_Ug0gJfGx"
      },
      "source": [
        "This is equivalent to the same Python function defined using the `def` keyword:"
      ]
    },
    {
      "cell_type": "code",
      "execution_count": null,
      "metadata": {
        "id": "y0WMV-BfJfGx"
      },
      "outputs": [],
      "source": [
        "def adder2(a, b):\n",
        "    return a + b\n",
        "\n",
        "adder2(3, 5) # returns 8"
      ]
    },
    {
      "cell_type": "markdown",
      "metadata": {
        "id": "9sWuqCqOJfGx"
      },
      "source": [
        "-------------"
      ]
    },
    {
      "cell_type": "markdown",
      "metadata": {
        "id": "OacOsQTsJfGx"
      },
      "source": [
        "### Exercise 4.6"
      ]
    },
    {
      "cell_type": "markdown",
      "metadata": {
        "id": "nPKp1MOHJfGx"
      },
      "source": [
        "Given the three functions $f$, $g$, and $h$, where\n",
        "\n",
        "$f: \\mathbb{R^+}\\rightarrow\\mathbb{R^+}, f(x) = x^2$\n",
        "\n",
        "$g: \\mathbb{R}\\rightarrow\\mathbb{R^+}, g(x) = 2^x$\n",
        "\n",
        "$h: \\mathbb{R}\\rightarrow\\mathbb{Z}, h(x) = \\lceil x/5 \\rceil $\n",
        "\n",
        "Write Python code and use the `lambda` keyword to define each of these functions.\n",
        "\n",
        "As an example, to define the function $s(x) = x + 1$, the Python code would be `s = lambda x: x + 1` and this function would be called like so: `s(3)`."
      ]
    },
    {
      "cell_type": "code",
      "execution_count": 10,
      "metadata": {
        "id": "s8eN3qLwJfGx"
      },
      "outputs": [],
      "source": [
        "f = lambda x: x ** 2\n",
        "g = lambda x: 2 ** x\n",
        "h = lambda x: int(-(-x // 5))  # Ceiling of x / 5"
      ]
    },
    {
      "cell_type": "markdown",
      "metadata": {
        "id": "iWKKwpfGJfGx"
      },
      "source": [
        "Now use your Python functions `f`, `g`, and `h` to evaluate the following.\n",
        "\n",
        "1. $f(5)$\n",
        "2. $g(6)$\n",
        "3. $h(27)$\n",
        "4. $(f \\circ g)(0)$\n",
        "5. $(f \\circ h)(52)$\n",
        "6. $(g \\circ h \\circ f)(4)$"
      ]
    },
    {
      "cell_type": "markdown",
      "metadata": {
        "id": "duR_4jR8JfGx"
      },
      "source": [
        "#### Your Answer:"
      ]
    },
    {
      "cell_type": "code",
      "execution_count": 11,
      "metadata": {
        "colab": {
          "base_uri": "https://localhost:8080/"
        },
        "id": "BdE1kFcHJfGx",
        "outputId": "f3957e0a-f95e-49df-a8e6-4e24e6c3fe74"
      },
      "outputs": [
        {
          "output_type": "stream",
          "name": "stdout",
          "text": [
            "f(5) = 25\n",
            "g(6) = 64\n",
            "h(27) = 6\n",
            "(f ∘ g)(0) = 1\n",
            "(f ∘ h)(52) = 121\n",
            "(g ∘ h ∘ f)(4) = 16\n"
          ]
        }
      ],
      "source": [
        "print(f\"f(5) = {f(5)}\")\n",
        "print(f\"g(6) = {g(6)}\")\n",
        "print(f\"h(27) = {h(27)}\")\n",
        "print(f\"(f ∘ g)(0) = {f(g(0))}\")\n",
        "print(f\"(f ∘ h)(52) = {f(h(52))}\")\n",
        "print(f\"(g ∘ h ∘ f)(4) = {g(h(f(4)))}\")"
      ]
    },
    {
      "cell_type": "markdown",
      "metadata": {
        "id": "xiFXA--GJfGy"
      },
      "source": [
        "### Exercise 4.7"
      ]
    },
    {
      "cell_type": "markdown",
      "metadata": {
        "id": "dBK0uSgqJfGy"
      },
      "source": [
        "Use the functions from the previous exercise to answer the following questions.\n",
        "\n",
        "1. What is $f^{-1}(x)$? Write a lambda function and call it `f_inv`.\n",
        "2. Use the functions you wrote to evaluate  $(f^{-1} \\circ f)(3)$\n",
        "3. What is $g^{-1}(x)$? Write a lambda function and call it `g_inv`.\n",
        "4. Use the functions you wrote to evaluate $(g^{-1} \\circ g)(16)$"
      ]
    },
    {
      "cell_type": "markdown",
      "metadata": {
        "id": "2QoWJNDGJfG5"
      },
      "source": [
        "#### Your Answer:"
      ]
    },
    {
      "cell_type": "code",
      "execution_count": 17,
      "metadata": {
        "colab": {
          "base_uri": "https://localhost:8080/"
        },
        "id": "OXA18cMOJfG6",
        "outputId": "fb6bb669-eea0-451c-f7d0-aea54e94e9bd"
      },
      "outputs": [
        {
          "output_type": "stream",
          "name": "stdout",
          "text": [
            "3.0\n",
            "4.0\n"
          ]
        }
      ],
      "source": [
        "import math\n",
        "\n",
        "f = lambda x: x ** 2          # f(x) = x², domain R⁺ → R⁺\n",
        "g = lambda x: 2 ** x          # g(x) = 2^x, domain R → R⁺\n",
        "f_inv = lambda x: x ** 0.5\n",
        "print((f_inv(f(3))))  # f(3) = 9, f_inv(9) = √9 = 3.0\n",
        "\n",
        "g_inv = lambda x: math.log2(x)\n",
        "print((g_inv(g(4))))  # g(4) = 16, log2(16) = 4.0\n"
      ]
    },
    {
      "cell_type": "markdown",
      "metadata": {
        "id": "qZ0uoBjpJfG6"
      },
      "source": [
        "### Exercise 4.8"
      ]
    },
    {
      "cell_type": "markdown",
      "metadata": {
        "id": "o5HzIiXBJfG6"
      },
      "source": [
        "For each expression, give an equivalent expression by simplifying as much as possible to a final answer that is of the form $3^x$, where $x$ is an expression with numbers and possibly the variable $n$.\n",
        "\n",
        "1. $(3^n)^{n}$\n",
        "2. $(3^{2n})^{2}$\n",
        "3. $(3^{2^n})^{2}$\n",
        "4. $\\frac{3^{2n}}{3}$\n",
        "5. $9 \\cdot 3^n$"
      ]
    },
    {
      "cell_type": "markdown",
      "metadata": {
        "id": "j6w6K2hmJfG6"
      },
      "source": [
        "1. $3^{n^2}  $\n",
        "2. $3^{4n} $\n",
        "3. $ 3^{4n}  $\n",
        "4. $3^{2n^3} $\n",
        "5. $3^{n+2}$\n"
      ]
    },
    {
      "cell_type": "markdown",
      "metadata": {
        "id": "LSYD6d1mJfG6"
      },
      "source": [
        "### Exercise 4.9"
      ]
    },
    {
      "cell_type": "markdown",
      "metadata": {
        "id": "HCkzB-t6JfG6"
      },
      "source": [
        "For each expression, give an equivalent expression by simplifying as much as possible to a final answer that is of the form $\\log_{7}{(x)}$, where $x$ is an expression with numbers and possibly the variable $n$.\n",
        "\n",
        "1. $\\log_7{n} + \\log_7{2}$\n",
        "2. $2\\cdot \\log_7{n}$\n",
        "3. $\\log_{7}{n} - \\log_{7}{11}$\n",
        "4. $(\\log_2{n}) / (\\log_2{7})$"
      ]
    },
    {
      "cell_type": "markdown",
      "metadata": {
        "id": "jjdGM4YnJfG6"
      },
      "source": [
        "1. $log_7(2n)  $\n",
        "2. $log_7(n^2)  $\n",
        "3. $log_7(n / 11)  $\n",
        "4. $log_7(n)$\n"
      ]
    },
    {
      "cell_type": "markdown",
      "metadata": {
        "id": "HCjgnJwTbbhN"
      },
      "source": [
        "----------------------\n",
        "## Sample Solutions\n",
        "\n",
        "**Note**:\n",
        "Sample solutions are provided in order to help you **learn**. The purpose of these exercises is not to simply turn in the answers, but to take the time and effort to learn and understand the material. You are encouraged to work the problems first, then when you are satisfied that you have the correct answer, look at the sample solution and compare it with yours."
      ]
    },
    {
      "cell_type": "markdown",
      "metadata": {
        "id": "ht1FZEkjJfG7"
      },
      "source": [
        "### Sample Solution 4.1"
      ]
    },
    {
      "cell_type": "markdown",
      "metadata": {
        "id": "9iZx1Vx7JfG7"
      },
      "source": [
        "1. The positive real numbers $\\mathbb{R}^{+}$\n",
        "2. Positive even integers\n",
        "3. Positive odd integers\n",
        "4. The positive rational numbers $\\mathbb{Q}^{+}$\\\n",
        "   or \\\n",
        "   All numbers of the form $1/x$ where $x \\in Z^+$\n",
        "\n"
      ]
    },
    {
      "cell_type": "markdown",
      "metadata": {
        "id": "uKNKifv3JfG7"
      },
      "source": [
        "### Sample Solution 4.2"
      ]
    },
    {
      "cell_type": "markdown",
      "metadata": {
        "id": "jkPJnjdlJfG7"
      },
      "source": [
        "1. Yes, both. Every member of the domain maps to a different element of the codomain (one-to-one) and every element of the codomain is in the range (onto).\n",
        "2. Yes, neither. Not onto because the range $\\ne$ codomain. Not one-to-one because $a$ is used twice.\n",
        "3. Not a function. Some element of the domain are not used.\n",
        "4. Not a function. 2 maps to two different elements in the codomain.\n",
        "5. Yes, neither. Not one-to-one because each element in the domain maps to the same element in the co-domain. Not onto because the range $\\ne$ codomain."
      ]
    },
    {
      "cell_type": "markdown",
      "metadata": {
        "id": "CgSUxGFZJfG7"
      },
      "source": [
        "### Sample Solution 4.3"
      ]
    },
    {
      "cell_type": "markdown",
      "metadata": {
        "id": "FCg8iEFSJfG7"
      },
      "source": [
        "| Function | Domain | Codomain |\n",
        "|----------|--------|----------|\n",
        "| abs      | Numbers| Nonnegative Numbers |\n",
        "| chr      | Numbers between 0 and 0x10ffff | a Unicode string of one character |\n",
        "| int      | Numbers or Strings | Integers |\n",
        "| len      | Containers | Nonnegative Numbers |\n",
        "| pow      | Numbers | Numbers |\n",
        "\n",
        "The `abs` function matches the signature $f: \\mathbb{Z} \\rightarrow \\mathbb{N}$"
      ]
    },
    {
      "cell_type": "markdown",
      "metadata": {
        "id": "vQok_9RUJfG7"
      },
      "source": [
        "### Sample Solution 4.4"
      ]
    },
    {
      "cell_type": "code",
      "execution_count": null,
      "metadata": {
        "id": "Bi3dUrO5JfG7",
        "outputId": "77e904ba-652e-4163-e665-ced9313c5a4b"
      },
      "outputs": [
        {
          "name": "stdout",
          "output_type": "stream",
          "text": [
            "True\n"
          ]
        }
      ],
      "source": [
        "def floor1(x):\n",
        "    return x // 1  # integer division\n",
        "\n",
        "\n",
        "def ceil1(x):\n",
        "    if (int(x) == x): # x is a whole number\n",
        "        return x\n",
        "    else:\n",
        "        return int(x+1) if x > 0 else int(x)\n",
        "\n",
        "\n",
        "# Alternative Solution provided by Fall 2022 student Benjamin Pratt\n",
        "def ceil1(x):\n",
        "    return -(x // -1)\n",
        "\n",
        "\n",
        "def test_floor_ceiling():\n",
        "    \"\"\"Test floor and ceil functions.\n",
        "\n",
        "    Returns:\n",
        "        bool: True if all tests pass\n",
        "    \"\"\"\n",
        "    return (\n",
        "        floor1(2) == 2\n",
        "        and floor1(-2) == -2\n",
        "        and floor1(-1.1) == -2\n",
        "        and floor1(-1.9) == -2\n",
        "        and floor1(1.9) == 1\n",
        "        and floor1(1.1) == 1\n",
        "        and ceil1(2) == 2\n",
        "        and ceil1(-2) == -2\n",
        "        and ceil1(1.1) == 2\n",
        "        and ceil1(1.9) == 2\n",
        "        and ceil1(-1.1) == -1\n",
        "        and ceil1(-1.9) == -1\n",
        "    )\n",
        "\n",
        "\n",
        "print(test_floor_ceiling())"
      ]
    },
    {
      "cell_type": "markdown",
      "metadata": {
        "id": "BZnHQOyHJfG8"
      },
      "source": [
        "### Sample Solution 4.5"
      ]
    },
    {
      "cell_type": "markdown",
      "metadata": {
        "id": "6kTX9uDjJfG8"
      },
      "source": [
        "1. onto but not one-to-one. f(0) = f(1) = f(-1)\n",
        "2. both\n",
        "3. one-to-one, not onto\n",
        "4. onto, not one-to-one\n",
        "5. one-to-one,  not onto\n",
        "6. one-to-one, not onto"
      ]
    },
    {
      "cell_type": "code",
      "execution_count": null,
      "metadata": {
        "id": "hQAxAxD4JfG8",
        "outputId": "583f66fa-e838-4c9a-d019-eb68b43c34d4"
      },
      "outputs": [
        {
          "name": "stdout",
          "output_type": "stream",
          "text": [
            "1. [-120, -75.207, -6, -0.23100000000000032, 0, 0.192, 0, -0.192, 0, 0.23100000000000032, 6, 75.207, 120]\n",
            "2. [12, 11, 10, 9, 8, 7, 6, 5, 4, 3, 2, 1, 0, -1, -2, -3, -4, -5, -6, -7, -8]\n",
            "3. [1, 2, 3, 4, 6, 8, 9, 12, 16, 18, 24, 27, 36, 48, 54, 72, 81, 108, 144, 162, 216, 324, 432, 648, 1296]\n",
            "4. [1, 1, 2, 2, 3, 3, 4, 4, 5, 5]\n",
            "5. [0, 2, 6, 12, 20, 30, 42, 56, 72, 90]\n",
            "6. [(0, 1), (2, 3), (4, 5), (6, 7), (8, 9), (10, 11), (12, 13), (14, 15), (16, 17), (18, 19)]\n"
          ]
        }
      ],
      "source": [
        "# Example of using python to get a feel for the outputs or \"range\" of each function\n",
        "\n",
        "print('1.', [(x**3 - x) for x in [-5, -4.3, -2, -1.1, -1, -0.2, 0, 0.2, 1, 1.1, 2, 4.3, 5]])\n",
        "\n",
        "print('2.', [(-x + 2) for x in range(-10, 11)])\n",
        "\n",
        "# using sorted() to make it easy to spot duplicates and gaps\n",
        "print('3.', sorted([2**i * 3**j for i in range(5) for j in range(5)]))\n",
        "\n",
        "from math import ceil\n",
        "print('4.', [ceil(n/2) for n in range(1,11)])\n",
        "\n",
        "print('5.', [n**2 + n for n in range(10)])\n",
        "\n",
        "print('6.', [(2*n, 2*n + 1) for n in range(10)])"
      ]
    },
    {
      "cell_type": "markdown",
      "metadata": {
        "id": "ZPzmunotJfG8"
      },
      "source": [
        "### Sample Solution 4.6"
      ]
    },
    {
      "cell_type": "code",
      "execution_count": null,
      "metadata": {
        "id": "yaDV0CEnJfG8",
        "outputId": "a120c81a-2546-4b16-a26e-193ed3d14788"
      },
      "outputs": [
        {
          "name": "stdout",
          "output_type": "stream",
          "text": [
            "1. 25\n",
            "2. 64\n",
            "3. 6\n",
            "4. 1\n",
            "5. 121\n",
            "6. 16\n"
          ]
        }
      ],
      "source": [
        "from math import ceil\n",
        "f = lambda x: x**2\n",
        "g = lambda x: 2**x\n",
        "h = lambda x: ceil(x/5)\n",
        "\n",
        "print('1.', f(5))\n",
        "print('2.', g(6))\n",
        "print('3.', h(27))\n",
        "print('4.', f(g(0)))\n",
        "print('5.', f(h(52)))\n",
        "print('6.', g(h(f(4))))"
      ]
    },
    {
      "cell_type": "markdown",
      "metadata": {
        "id": "iqCSl2ejJfG9"
      },
      "source": [
        "### Sample Solution 4.7"
      ]
    },
    {
      "cell_type": "code",
      "execution_count": null,
      "metadata": {
        "id": "Xo0rY1t3JfG9",
        "outputId": "8fdfb73d-cecb-457a-a7b8-d8bfedccd76c"
      },
      "outputs": [
        {
          "name": "stdout",
          "output_type": "stream",
          "text": [
            "2. 3.0\n",
            "4. 16.0\n"
          ]
        }
      ],
      "source": [
        "from math import sqrt, log2\n",
        "f_inv = lambda x: sqrt(x)\n",
        "g_inv = lambda x: log2(x)\n",
        "\n",
        "print('2.', f_inv(f(3)))\n",
        "print('4.', g_inv(g(16)))"
      ]
    },
    {
      "cell_type": "markdown",
      "metadata": {
        "id": "7mYeAPVwJfG9"
      },
      "source": [
        "### Sample Solution 4.8"
      ]
    },
    {
      "cell_type": "markdown",
      "metadata": {
        "id": "WWgWUz0IJfG9"
      },
      "source": [
        "1. $3^{n^2}$\n",
        "2. $3^{4n}$\n",
        "3. $3^{2^{n+1}}$\n",
        "4. $3^{2n-1}$\n",
        "5. $3^{n+2}$"
      ]
    },
    {
      "cell_type": "markdown",
      "metadata": {
        "id": "02ftt2xuJfG9"
      },
      "source": [
        "### Sample Solution 4.9"
      ]
    },
    {
      "cell_type": "markdown",
      "metadata": {
        "id": "lyze3nD6JfG9"
      },
      "source": [
        "1. $\\log_7{(2n)}$\n",
        "2. $\\log_7{(n^2)}$\n",
        "3. $\\log_7{(n/11)}$\n",
        "4. $\\log_7{n}$"
      ]
    }
  ],
  "metadata": {
    "colab": {
      "collapsed_sections": [
        "HCjgnJwTbbhN"
      ],
      "name": "cse280-homework-04.ipynb",
      "provenance": [],
      "toc_visible": true
    },
    "interpreter": {
      "hash": "1977c1262a5a71e57f8e1e2a9337f4268800bf2d1a595fc1ecb322ccb8b2351d"
    },
    "kernelspec": {
      "display_name": "Python 3.9.0 ('.env': venv)",
      "language": "python",
      "name": "python3"
    },
    "language_info": {
      "codemirror_mode": {
        "name": "ipython",
        "version": 3
      },
      "file_extension": ".py",
      "mimetype": "text/x-python",
      "name": "python",
      "nbconvert_exporter": "python",
      "pygments_lexer": "ipython3",
      "version": "3.9.0"
    }
  },
  "nbformat": 4,
  "nbformat_minor": 0
}