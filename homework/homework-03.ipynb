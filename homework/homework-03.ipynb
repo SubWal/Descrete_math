{
  "cells": [
    {
      "cell_type": "markdown",
      "metadata": {
        "id": "_Mr3AvSgSswx"
      },
      "source": [
        "# Homework 3 - Sets"
      ]
    },
    {
      "cell_type": "markdown",
      "metadata": {
        "id": "w1t0weuGbbhA"
      },
      "source": [
        "**Instructions:** Complete the exercises below.\n",
        "\n",
        "1. Make a copy of this Colab Notebook using **`File -> Save a copy in Drive`**.\n",
        "\n",
        "2. Answer the exercise questions below. Type your answers to each question by double-clicking on **`Your Answer`** and typing your response.\n",
        "\n",
        "    Note that you can use any combination of plain text, Markdown, or LaTeX. As a last resort, you can simply take a picture of your handwritten work and upload it to an answer cell below.\n",
        "\n",
        "3. To submit your work, turn in the URL for your Colab notebook by clicking \"Share\" then \"Copy Link\"."
      ]
    },
    {
      "cell_type": "markdown",
      "metadata": {
        "id": "bEsUKV6DbbhB"
      },
      "source": [
        "**Note**:\n",
        "Sample solutions are provided in order to help you **learn**. The purpose of these exercises is not to simply turn in the answers, but to take the time and effort to learn and understand the material. You are encouraged to work the problems first, then when you are satisfied that you have the correct answer, look at the sample solution and compare it with yours."
      ]
    },
    {
      "cell_type": "markdown",
      "metadata": {
        "id": "kTb7p52Uczr3"
      },
      "source": [
        "As you complete the problems below, you may use Python whenever you can think of a way it could help you answer the question."
      ]
    },
    {
      "cell_type": "markdown",
      "metadata": {
        "id": "rR_hIrVsczr4"
      },
      "source": [
        "### Exercise 3.1"
      ]
    },
    {
      "cell_type": "markdown",
      "metadata": {
        "id": "qPWm5JBbczr4"
      },
      "source": [
        "List four elements of each of the following sets:\n",
        "\n",
        "1. $\\{x \\in \\mathbb{Z^+} : x - 1 \\texttt{ is a multiple of 7 } \\}$\n",
        "2. $\\{x : x \\texttt{ is a fruit and its skin is normally eaten }\\}$\n",
        "3. $\\{x \\in \\mathbb{Q} : \\frac{1}{x} \\in \\mathbb{Z}\\}$\n",
        "4. $\\{2n: n\\in\\mathbb{Z}, n < 0\\}$\n",
        "5. $\\{s: s=1+2+\\dots+n \\texttt{ for some } n \\in \\mathbb{Z^+}\\}$\n",
        "\n",
        "Question adapted from [Applied Discrete Structures](https://discretemath.org/) by Alan Doerr & Kenneth Levasseur which is licensed under a [Creative Commons Attribution-NonCommercial-ShareAlike 3.0 United States License](http://creativecommons.org/licenses/by-nc-sa/3.0/us/)."
      ]
    },
    {
      "cell_type": "markdown",
      "metadata": {
        "id": "gSFYT4EHbbhF"
      },
      "source": [
        "#### Your Answer:\n",
        "\n",
        "1. 36, 43, 50, 57\n",
        "2. grape, blueberry, cherry, fig\n",
        "3. -1/2, -1/3, 1/6, -1/7\n",
        "4. -10, -12, -14, -16\n",
        "5. 15, 21, 28, 36\n"
      ]
    },
    {
      "cell_type": "markdown",
      "metadata": {
        "id": "zd5UKvPTczr4"
      },
      "source": [
        "### Exercise 3.2"
      ]
    },
    {
      "cell_type": "markdown",
      "metadata": {
        "id": "w4iB4aelczr4"
      },
      "source": [
        "Let $A = \\{0,2,3\\}$, $B = \\{2,3\\}$, $C=\\{1,5,9\\}$, and the universal set $U=\\{0,1,2,\\dots,9\\}$.\n",
        "\n",
        "Determine:\n",
        "\n",
        "1. $A \\cap B$\n",
        "2. $A \\cup B$\n",
        "3. $B \\cup A$\n",
        "4. $A \\cup C$\n",
        "5. $A - B$\n",
        "6. $B - A$\n",
        "7. $\\overline A$\n",
        "8. $\\overline C$\n",
        "9. $A \\cap C$\n",
        "10. $A \\oplus B$\n",
        "\n",
        "\n",
        "\n",
        "Question adapted from [Applied Discrete Structures](https://discretemath.org/) by Alan Doerr & Kenneth Levasseur which is licensed under a [Creative Commons Attribution-NonCommercial-ShareAlike 3.0 United States License](http://creativecommons.org/licenses/by-nc-sa/3.0/us/)."
      ]
    },
    {
      "cell_type": "markdown",
      "metadata": {
        "id": "r9cIcEV3czr4"
      },
      "source": [
        "#### Your Answer:\n",
        "\n",
        "- **A ∩ B** = {2, 3}\n",
        "- **A ∪ B** = {0, 2, 3}\n",
        "- **B ∪ A** = {0, 2, 3}\n",
        "- **A ∪ C** = {0, 1, 2, 3, 5, 9}\n",
        "- **A − B** = {0}\n",
        "- **B − A** = ∅\n",
        "- **A̅** = {1, 4, 5, 6, 7, 8, 9}\n",
        "- **C̅** = {0, 2, 3, 4, 6, 7, 8}\n",
        "- **A ∩ C** = ∅\n",
        "- **A ⊕ B** = {0}"
      ]
    },
    {
      "cell_type": "markdown",
      "metadata": {
        "id": "3KuEDe6qAZqG"
      },
      "source": [
        "### Exercise 3.3"
      ]
    },
    {
      "cell_type": "markdown",
      "metadata": {
        "id": "CYE2_bHYAZqG"
      },
      "source": [
        "Python sets are similar to mathematical sets and include a number of methods and operators for working with sets. Note that sets in Python are unordered, so we cannot access elements by position and when displaying sets, no order is guaranteed.\n",
        "\n",
        "Python sets are created similarly to Python lists, but use the \"{\" and \"}\" rather than \"[\" and \"]\".\n",
        "\n",
        "Here are some examples of working with Python sets:"
      ]
    },
    {
      "cell_type": "code",
      "execution_count": null,
      "metadata": {
        "id": "cVn-sWC2czr5"
      },
      "outputs": [],
      "source": [
        "A = {2, 3, 4, 7, 9} # Create a set A\n",
        "B = {1, 5, 8} # Create a set B\n",
        "C = {3, 7} # Create a set C\n",
        "D = set() # Create an empty set D\n",
        "\n",
        "print('A: ', A)\n",
        "print('B: ', B)\n",
        "print('C: ', C)\n",
        "print('D: ', D, '# Note \"set()\" indicates the empty set')\n",
        "\n",
        "# Use set methods and operators\n",
        "print('A ∪ B:', A.union(B))\n",
        "print('A ∪ B:', A | B)  # The | operator works for set union\n",
        "print('A ∩ B:', A.intersection(B))\n",
        "print('A ∩ B:', A & B)  # The & operator works for set intersection\n",
        "print('A - B:', A.difference(B))\n",
        "print('A - B:', A - B)  # The - operator works for set difference\n",
        "print('C ⊆ A:', C.issubset(A))\n",
        "print('C ⊆ A:', C <= A) # The <= and < operators work for subset and proper subset\n",
        "print('C ⊂ A:', C < A)  # proper subset\n",
        "\n",
        "# Sets can contain items other than numbers\n",
        "E = {'adam', 'bob', 'carol'}\n",
        "F = {'bob', 'dave', 'eve'}\n",
        "print('E:', E)\n",
        "print('F:', F)\n",
        "print('E ∪ F:', E.union(F))\n",
        "print('E ∩ F:', E.intersection(F))\n",
        "\n",
        "# Determine membership in a set using 'in'\n",
        "print('Is \"adam\" a member of E? ', 'adam' in E)\n",
        "\n",
        "# Add or remove items from a set\n",
        "E.add('dave')\n",
        "E.discard('bob')\n",
        "print('Updated E:', E)\n",
        "\n",
        "# Create a set from something else\n",
        "G = set('ABCDEFG') # Create a set from a string\n",
        "H = set(['X', 'Y', 'Z']) # Create a set from a list\n",
        "print('G: ', G)\n",
        "print('H: ', H)\n"
      ]
    },
    {
      "cell_type": "markdown",
      "metadata": {
        "id": "FgDwU40hczr5"
      },
      "source": [
        "#### Use Python to answer these questions from Exercise 3.2 and repeated here:\n",
        "\n",
        "Let $A = \\{0,2,3\\}$, $B = \\{2,3\\}$, $C=\\{1,5,9\\}$, and the universal set $U=\\{0,1,2,\\dots,9\\}$.\n",
        "\n",
        "Determine:\n",
        "\n",
        "1. $A \\cap B$\n",
        "2. $A \\cup B$\n",
        "3. $B \\cup A$\n",
        "4. $A \\cup C$\n",
        "5. $A - B$\n",
        "6. $B - A$\n",
        "7. $\\overline A$\n",
        "8. $\\overline C$\n",
        "9. $A \\cap C$\n",
        "10. $A \\oplus B$"
      ]
    },
    {
      "cell_type": "markdown",
      "metadata": {
        "id": "6bw2d_J0czr5"
      },
      "source": [
        "#### Your Answer:"
      ]
    },
    {
      "cell_type": "code",
      "execution_count": 11,
      "metadata": {
        "colab": {
          "base_uri": "https://localhost:8080/"
        },
        "id": "4c0SpNQaczr5",
        "outputId": "312871fe-0aa8-4455-d3fd-cbf2979028e2"
      },
      "outputs": [
        {
          "output_type": "stream",
          "name": "stdout",
          "text": [
            "A∩B:  {2, 3}\n",
            "A∪B:  {0, 2, 3}\n",
            "B∪A:  {0, 2, 3}\n",
            "A∪C:  {0, 1, 2, 3, 5, 9}\n",
            "A−B:  {0}\n",
            "B−A:  set()\n",
            "A¯¯¯¯ {1, 4, 5, 6, 7, 8, 9}\n",
            "C¯¯¯¯ {0, 2, 3, 4, 6, 7, 8}\n",
            "A∩C set()\n",
            "A⊕B:  {0}\n"
          ]
        }
      ],
      "source": [
        "# Fill in your code here\n",
        "\n",
        "A={0,2,3} # create a set A\n",
        "B={2,3} # Create a set B\n",
        "C={1,5,9} # Create a set C\n",
        "U = {0,1,2,3,4,5,6,7,8,9}\n",
        "\n",
        "print('A∩B: ', A & B)\n",
        "\n",
        "print('A∪B: ', A.union(B))\n",
        "\n",
        "print('B∪A: ', B.union(A) )\n",
        "\n",
        "print('A∪C: ', A.union(C))\n",
        "\n",
        "print('A−B: ', A -B)\n",
        "\n",
        "print('B−A: ', B - A)\n",
        "\n",
        "print('A¯¯¯¯', U - A)\n",
        "\n",
        "print('C¯¯¯¯', U - C)\n",
        "\n",
        "print('A∩C', A & C)\n",
        "\n",
        "print('A⊕B: ', (A - B) | (B - A))\n",
        "\n",
        "\n",
        "\n",
        "\n",
        "\n",
        "\n",
        "\n",
        "\n",
        "\n",
        "\n"
      ]
    },
    {
      "cell_type": "markdown",
      "metadata": {
        "id": "nnFf7K8-czr5"
      },
      "source": [
        "### Exercise 3.4"
      ]
    },
    {
      "cell_type": "markdown",
      "metadata": {
        "id": "-TyWGQ2yczr6"
      },
      "source": [
        "#### Use Python to answer the following questions:\n",
        "\n",
        "Let $A$ be the set of letters in the English alphabet\n",
        "\n",
        "Let $B$ be the set of letters in the Hawaiian alphabet (Do some quick research to find this)\n",
        "\n",
        "1. What is the cardinality of the Hawaiian alphabet?\n",
        "1. Is the Hawaiian alphabet a **proper** subset of the English alphabet?\n",
        "1. What is the set intersection between A and B? What is the cardinality of the intersection?\n",
        "1. What is the set union between A and B? What is the cardinality of the union?\n",
        "1. What is the set difference between A and B? What is the cardinality of the difference?\n",
        "1. What is the symmetric difference between A and B? What is the cardinality of this set?\n",
        "1. Is the symmetric difference the same as the difference? Why or why not?\n"
      ]
    },
    {
      "cell_type": "markdown",
      "metadata": {
        "id": "kgTRmP7Hczr6"
      },
      "source": [
        "#### Your Answer:"
      ]
    },
    {
      "cell_type": "code",
      "execution_count": 38,
      "metadata": {
        "colab": {
          "base_uri": "https://localhost:8080/"
        },
        "id": "Y_wbooGvczr6",
        "outputId": "e6e946a5-0623-4bea-e7b9-0f7b7a2adfcd"
      },
      "outputs": [
        {
          "output_type": "stream",
          "name": "stdout",
          "text": [
            "1. The cardinality of Hawaiian alphabet is :  12\n",
            "2. Is the Hawaiian alphabet a proper subset of the English alphabet?   True\n",
            "3. The intersection between A and B is :   {'n', 'a', 'u', 'o', 'k', 'l', 'h', 'i', 'w', 'm', 'e', 'p'} And the cardinality of intersection is :  12\n",
            "4. Union:  {'n', 'o', 'c', 'h', 'f', 'd', 'e', 'a', 'y', 'j', 'r', 't', 'z', 'b', 'g', 'm', 's', 'u', 'k', 'l', 'v', 'i', 'x', 'w', 'q', 'p'} Its Cardinality:  26\n",
            "5. The difference bewteen A and B is:  {'s', 'b', 'q', 'y', 'g', 'c', 'v', 'j', 'f', 'r', 't', 'z', 'x', 'd'} And its Cardinality:  14\n",
            "6. The symmetric difference bwteen A and B is:  {'b', 'g', 'c', 'f', 'q', 'd', 's', 'y', 'v', 'j', 'r', 't', 'z', 'x'}  And its cardinality is:  14\n",
            "Is the defference and the symmetric difference same?:  True\n",
            "They are not the same because difference shows what is only in one set, while symmetric difference shows what is unique in both sets. They came out to be True because, in this  case, the other set had no unique elements to add — so the results looked the same.\n"
          ]
        }
      ],
      "source": [
        "A = set('abcdefghijklmnopqrstuvwxyz')\n",
        "B = set('aeiouhklmnpw')\n",
        "print('1. The cardinality of Hawaiian alphabet is : ', len(B))\n",
        "is_proper_subset = B.issubset(A) and A != B\n",
        "print('2. Is the Hawaiian alphabet a proper subset of the English alphabet?  ', is_proper_subset)\n",
        "\n",
        "intersection_A_B = A & B\n",
        "print('3. The intersection between A and B is :  ', intersection_A_B,  'And the cardinality of intersection is : ', len(intersection_A_B))\n",
        "\n",
        "union_A_B = A | B\n",
        "\n",
        "print('4. Union: ', union_A_B, 'Its Cardinality: ', len(union_A_B))\n",
        "\n",
        "difference_A_B = A - B\n",
        "\n",
        "print('5. The difference bewteen A and B is: ', difference_A_B,  'And its Cardinality: ', len(difference_A_B))\n",
        "\n",
        "symmetric_difference_A_B = A ^ B\n",
        "\n",
        "print('6. The symmetric difference bwteen A and B is: ', symmetric_difference_A_B, ' And its cardinality is: ', len(symmetric_difference_A_B))\n",
        "\n",
        "print('Is the defference and the symmetric difference same?: ',  difference_A_B == symmetric_difference_A_B )\n",
        "print( \"They are not the same because difference shows what is only in one set, while symmetric difference shows what is unique in both sets. They came out to be True because, in this  case, the other set had no unique elements to add — so the results looked the same.\")\n",
        "\n",
        "\n",
        "\n"
      ]
    },
    {
      "cell_type": "markdown",
      "metadata": {
        "id": "hwNiEt2Yczr6"
      },
      "source": [
        "### Exercise 3.5"
      ]
    },
    {
      "cell_type": "markdown",
      "metadata": {
        "id": "0C3MV-9Fczr6"
      },
      "source": [
        "Python list comprehensions (and set comprehensions) are similar to set builder notation. For example, the set of the first twenty even numbers is represented using set builder notation as:\n",
        "\n",
        "$S = \\{x \\in \\mathbb{Z}: x = 2n \\texttt{ and } 0 \\le n \\le 19 \\}$\n",
        "\n",
        "This set could be created in Python like this:"
      ]
    },
    {
      "cell_type": "code",
      "execution_count": 39,
      "metadata": {
        "colab": {
          "base_uri": "https://localhost:8080/"
        },
        "id": "re9mG3O_czr6",
        "outputId": "1811b1a3-092f-46f8-af6e-b145a8676d3c"
      },
      "outputs": [
        {
          "output_type": "stream",
          "name": "stdout",
          "text": [
            "{0, 2, 4, 6, 8, 10, 12, 14, 16, 18, 20, 22, 24, 26, 28, 30, 32, 34, 36, 38}\n"
          ]
        }
      ],
      "source": [
        "S = {2*n for n in range(20)}\n",
        "print(S)"
      ]
    },
    {
      "cell_type": "markdown",
      "metadata": {
        "id": "qVdi2-tdczr6"
      },
      "source": [
        "We can also include an \"if\" statement in the Python list comprehension to add additional filters when building the set.\n",
        "\n",
        "<!-- The set $S = \\{x \\in \\mathbb{Z}: x = 2n \\texttt{ and } 0 \\le n \\le 19 \\texttt{ and } x \\texttt{ is a multiple of 3 } \\}$ -->\n",
        "\n",
        "For example, to build the set of odd integers between 1 and 20, the set builder notation would be\n",
        "\n",
        "$\\{x \\in \\mathbb{Z}: x \\le 20 \\texttt{ and } x \\texttt{ is odd }\\}$\n",
        "\n",
        "In Python:"
      ]
    },
    {
      "cell_type": "code",
      "execution_count": 82,
      "metadata": {
        "colab": {
          "base_uri": "https://localhost:8080/"
        },
        "id": "cE_6C7YIczr6",
        "outputId": "4882803a-965c-4233-8088-1167c0390bc7"
      },
      "outputs": [
        {
          "output_type": "stream",
          "name": "stdout",
          "text": [
            "{1, 3, 5, 7, 9, 11, 13, 15, 17, 19}\n"
          ]
        }
      ],
      "source": [
        "print({x for x in range(21) if x%2})"
      ]
    },
    {
      "cell_type": "markdown",
      "metadata": {
        "id": "BulBuKbUczr6"
      },
      "source": [
        "Using Python list (or set) comprehensions, create the following sets. Assume the domain is $\\mathbb{Z}$.\n",
        "\n",
        "When printing the result, use `sorted` to convert the sets to a sorted list to make it easier to verify your result.\n",
        "\n",
        "1. The first 100 multiples of 3.\n",
        "2. The perfect squares from 1 to 100. (An integer $x$ is a perfect square if there is an integer $y$ such that $x = y^2$ )\n",
        "3. All integers whose absolute value is less than 5.\n",
        "4. The odd integers between -10 and 10.\n",
        "5. The integers between 0 and 100 that end in the digit 3 or 7."
      ]
    },
    {
      "cell_type": "markdown",
      "metadata": {
        "id": "mXqm6q-5czr6"
      },
      "source": [
        "#### Your Answer:"
      ]
    },
    {
      "cell_type": "code",
      "execution_count": 78,
      "metadata": {
        "colab": {
          "base_uri": "https://localhost:8080/"
        },
        "id": "ai04QcuAczr6",
        "outputId": "90dd36dd-d40a-4e8b-c969-fdc201f9b552"
      },
      "outputs": [
        {
          "output_type": "stream",
          "name": "stdout",
          "text": [
            "100\n",
            "1.  [0, 3, 6, 9, 12, 15, 18, 21, 24, 27, 30, 33, 36, 39, 42, 45, 48, 51, 54, 57, 60, 63, 66, 69, 72, 75, 78, 81, 84, 87, 90, 93, 96, 99, 102, 105, 108, 111, 114, 117, 120, 123, 126, 129, 132, 135, 138, 141, 144, 147, 150, 153, 156, 159, 162, 165, 168, 171, 174, 177, 180, 183, 186, 189, 192, 195, 198, 201, 204, 207, 210, 213, 216, 219, 222, 225, 228, 231, 234, 237, 240, 243, 246, 249, 252, 255, 258, 261, 264, 267, 270, 273, 276, 279, 282, 285, 288, 291, 294, 297]\n",
            "2.  [1, 4, 9, 16, 25, 36, 49, 64, 81, 100]\n",
            "3.  [-4, -3, -2, -1, 0, 1, 2, 3, 4]\n",
            "4.  [-9, -7, -5, -3, -1, 1, 3, 5, 7, 9]\n",
            "5.  [3, 7, 13, 17, 23, 27, 33, 37, 43, 47, 53, 57, 63, 67, 73, 77, 83, 87, 93, 97]\n"
          ]
        }
      ],
      "source": [
        "multiples_of_3 = sorted({3*n for n in range(100)})\n",
        "length = len(multiples_of_3)\n",
        "print(length)\n",
        "print(\"1. \", multiples_of_3)\n",
        "\n",
        "square = sorted({n**2 for n in range (1,100) if n**2 <=100 })\n",
        "print('2. ',square)\n",
        "\n",
        "absolute = sorted({x for x in range(-4,5) })\n",
        "print('3. ' ,absolute)\n",
        "\n",
        "odd = sorted({i for i in range (-10,10) if i %2 != 0  })\n",
        "\n",
        "print('4. ', odd)\n",
        "\n",
        "integer = sorted({ i for i in range (0,100) if i%10== 3 or i % 10 == 7})\n",
        "print('5. ', integer)\n",
        "\n",
        "\n",
        "\n"
      ]
    },
    {
      "cell_type": "markdown",
      "metadata": {
        "id": "MP6Ifi5vczr7"
      },
      "source": [
        "### Exercise 3.6"
      ]
    },
    {
      "cell_type": "markdown",
      "metadata": {
        "id": "UMYruSbGczr7"
      },
      "source": [
        "Use Python set comprehensions to generate and display all the members of the following sets:\n",
        "\n",
        "1. $\\{\\frac{1}{n}: n \\in \\{2,4,8,16\\}\\}$\n",
        "2. $\\{n^2 : n \\in \\{-2, -1, 0, 1, 2\\}\\}$\n",
        "3. $\\{n \\in \\mathbb{Z^+} : n \\text{ is a factor of } 24\\}$\n",
        "4. $\\{\\alpha \\in \\text{the English alphabet} : \\alpha \\text{ precedes F}\\}$\n",
        "\n",
        "Question adapted from [Applied Discrete Structures](https://discretemath.org/) by Alan Doerr & Kenneth Levasseur which is licensed under a [Creative Commons Attribution-NonCommercial-ShareAlike 3.0 United States License](http://creativecommons.org/licenses/by-nc-sa/3.0/us/)."
      ]
    },
    {
      "cell_type": "markdown",
      "metadata": {
        "id": "5R37H4PRczr7"
      },
      "source": [
        "#### Your Answer:"
      ]
    },
    {
      "cell_type": "code",
      "execution_count": 80,
      "metadata": {
        "colab": {
          "base_uri": "https://localhost:8080/"
        },
        "id": "L0e74Ex-czr7",
        "outputId": "ae28f11f-97a0-4e62-edcd-2b43bca50004"
      },
      "outputs": [
        {
          "output_type": "stream",
          "name": "stdout",
          "text": [
            "Set 1: {0.125, 0.0625, 0.5, 0.25}\n",
            "Set 2: {0, 1, 4}\n",
            "Set 3: {1, 2, 3, 4, 6, 8, 12, 24}\n",
            "Set 4: {'C', 'E', 'A', 'B', 'D'}\n"
          ]
        }
      ],
      "source": [
        "# 1. {1/n : n ∈ {2, 4, 8, 16}}\n",
        "set1 = {1/n for n in {2, 4, 8, 16}}\n",
        "print(\"Set 1:\", set1)\n",
        "\n",
        "# 2. {n^2 : n ∈ {-2, -1, 0, 1, 2}}\n",
        "set2 = {n**2 for n in {-2, -1, 0, 1, 2}}\n",
        "print(\"Set 2:\", set2)\n",
        "\n",
        "# 3. {n ∈ ℤ⁺ : n is a factor of 24}\n",
        "set3 = {n for n in range(1, 25) if 24 % n == 0}\n",
        "print(\"Set 3:\", set3)\n",
        "\n",
        "# 4. {α ∈ English alphabet : α precedes 'F'}\n",
        "import string\n",
        "set4 = {ch for ch in string.ascii_uppercase if ch < 'F'}\n",
        "print(\"Set 4:\", set4)\n",
        "\n",
        "\n"
      ]
    },
    {
      "cell_type": "markdown",
      "metadata": {
        "id": "_0ujyNQdbbhJ"
      },
      "source": [
        "### Exercise 3.7"
      ]
    },
    {
      "cell_type": "markdown",
      "metadata": {
        "id": "tq8CyFLUMxoq"
      },
      "source": [
        "Let A and B be two sets of words:\n",
        "\n",
        "A = {'verve', 'vim', 'vigor'}\n",
        "\n",
        "B = {'butter', 'vinegar', 'pepper', 'vigor'}\n",
        "\n",
        "For each of the following set operations, give its resulting members as a set of strings. Use Python.\n",
        "\n",
        "1. The set of words that are in A $\\cup$ B; call this set C.\n",
        "2. The set of words that are in A $\\cap$ B; call this set D.\n",
        "3. The subset of set C of words that start with 'v'.\n",
        "4. The subset of set C of words that end with 'r'.\n",
        "5. The subset of set C of words that start with 'v' and end with 'r'.\n",
        "6. The subset of set D of words that have five letters.\n",
        "7. The subset of set D of words that have six letters."
      ]
    },
    {
      "cell_type": "markdown",
      "metadata": {
        "id": "85Gj9oLHczr7"
      },
      "source": [
        "#### Your Answer:"
      ]
    },
    {
      "cell_type": "code",
      "execution_count": 79,
      "metadata": {
        "colab": {
          "base_uri": "https://localhost:8080/"
        },
        "id": "sL9ugMswczr7",
        "outputId": "0417afdf-20f0-4d50-e94b-a040570069df"
      },
      "outputs": [
        {
          "output_type": "stream",
          "name": "stdout",
          "text": [
            "C (A ∪ B): {'vinegar', 'pepper', 'vigor', 'butter', 'verve', 'vim'}\n",
            "D (A ∩ B): {'vigor'}\n",
            "Words in C starting with 'v': {'vigor', 'verve', 'vim', 'vinegar'}\n",
            "Words in C ending with 'r': {'vigor', 'butter', 'vinegar', 'pepper'}\n",
            "Words in C starting with 'v' and ending with 'r': {'vigor', 'vinegar'}\n",
            "Words in D with 5 letters: {'vigor'}\n",
            "Words in D with 6 letters: set()\n"
          ]
        }
      ],
      "source": [
        "# Given sets\n",
        "A = {'verve', 'vim', 'vigor'}\n",
        "B = {'butter', 'vinegar', 'pepper', 'vigor'}\n",
        "\n",
        "# 1. Union of A and B → C\n",
        "C = A | B\n",
        "print(\"C (A ∪ B):\", C)\n",
        "\n",
        "# 2. Intersection of A and B → D\n",
        "D = A & B\n",
        "print(\"D (A ∩ B):\", D)\n",
        "\n",
        "# 3. Words in C that start with 'v'\n",
        "start_with_v = {word for word in C if word.startswith('v')}\n",
        "print(\"Words in C starting with 'v':\", start_with_v)\n",
        "\n",
        "# 4. Words in C that end with 'r'\n",
        "end_with_r = {word for word in C if word.endswith('r')}\n",
        "print(\"Words in C ending with 'r':\", end_with_r)\n",
        "\n",
        "# 5. Words in C that start with 'v' and end with 'r'\n",
        "start_v_end_r = {word for word in C if word.startswith('v') and word.endswith('r')}\n",
        "print(\"Words in C starting with 'v' and ending with 'r':\", start_v_end_r)\n",
        "\n",
        "# 6. Words in D with five letters\n",
        "five_letter_words = {word for word in D if len(word) == 5}\n",
        "print(\"Words in D with 5 letters:\", five_letter_words)\n",
        "\n",
        "# 7. Words in D with six letters\n",
        "six_letter_words = {word for word in D if len(word) == 6}\n",
        "print(\"Words in D with 6 letters:\", six_letter_words)\n",
        "\n",
        "\n"
      ]
    },
    {
      "cell_type": "markdown",
      "metadata": {
        "id": "tWpt07z8bbhB"
      },
      "source": [
        "### Exercise 3.8"
      ]
    },
    {
      "cell_type": "markdown",
      "metadata": {
        "id": "O1RtplI_czr7"
      },
      "source": [
        "Let $A = \\{0,2,3\\}$, $B=\\{2,3\\}$, $C = \\{1,4\\}$, and let the universal set $U = \\{0,1,2,3,4\\}$. List the elements of each of the following:\n",
        "\n",
        "1. $A \\times B$\n",
        "2. $B \\times A$\n",
        "3. $A \\times B \\times C$\n",
        "4. $U \\times \\emptyset$\n",
        "5. $A \\times \\overline A$\n",
        "6. $B^2$\n",
        "\n",
        "\n",
        "Question adapted from [Applied Discrete Structures](https://discretemath.org/) by Alan Doerr & Kenneth Levasseur which is licensed under a [Creative Commons Attribution-NonCommercial-ShareAlike 3.0 United States License](http://creativecommons.org/licenses/by-nc-sa/3.0/us/)."
      ]
    },
    {
      "cell_type": "markdown",
      "metadata": {
        "id": "JIVFRE_KbbhC"
      },
      "source": [
        "#### Your Answer:\n",
        "\n",
        "**A × B**  \n",
        "= {(0,2), (0,3), (2,2), (2,3), (3,2), (3,3)}\n",
        "\n",
        "**B × A**  \n",
        "= {(2,0), (2,2), (2,3), (3,0), (3,2), (3,3)}\n",
        "\n",
        "**A × B × C**  \n",
        "= {(0,2,1), (0,2,4), (0,3,1), (0,3,4), (2,2,1), (2,2,4), (2,3,1), (2,3,4), (3,2,1), (3,2,4), (3,3,1), (3,3,4)}\n",
        "\n",
        "**U × ∅**  \n",
        "= ∅\n",
        "\n",
        "**A × A̅**  \n",
        "A̅ = U - A = {1, 4}  \n",
        "= {(0,1), (0,4), (2,1), (2,4), (3,1), (3,4)}\n",
        "\n",
        "**B²**  \n",
        "= B × B = {(2,2), (2,3), (3,2), (3,3)}\n",
        "\n",
        "\n"
      ]
    },
    {
      "cell_type": "markdown",
      "metadata": {
        "id": "6S0glNFnczr-"
      },
      "source": [
        "### Exercise 3.9"
      ]
    },
    {
      "cell_type": "markdown",
      "metadata": {
        "id": "Cv5uWyU3czr-"
      },
      "source": [
        "Use Python to answer the following questions.\n",
        "\n",
        "1. List all the elements in the Cartesian Product, $A \\times B$, where\n",
        "\n",
        "    $A = \\{a,b,c,d,e,f\\}$ and $B = \\{0,1,2,3,4,5\\}$\n",
        "\n",
        "2. What is the cardinality of $A \\times B$?\n",
        "\n",
        "3. List all the elements in $C \\times C \\times C$, where $C = \\{0,1\\}$\n",
        "\n",
        "4. What is the cardinality of $C \\times C \\times C$?"
      ]
    },
    {
      "cell_type": "markdown",
      "metadata": {
        "id": "wUF-Hntnczr-"
      },
      "source": [
        "#### Your Answer:\n",
        "\n"
      ]
    },
    {
      "cell_type": "code",
      "source": [
        "from itertools import product\n",
        "\n",
        "# Define sets A and B\n",
        "A = {'a', 'b', 'c', 'd', 'e', 'f'}\n",
        "B = {'0', '1', '2', '3', '4', '5'}\n",
        "\n",
        "# Cartesian Product A × B\n",
        "A_times_B = {(a, b) for a in A for b in B}\n",
        "print(\"A × B:\", A_times_B)\n",
        "print(\"Cardinality of A × B:\", len(A_times_B))\n",
        "\n",
        "# Define set C\n",
        "C = {0, 1}\n",
        "\n",
        "# Cartesian Product C × C × C\n",
        "C3 = set(product(C, repeat=3))\n",
        "print(\"C × C × C:\", C3)\n",
        "print(\"Cardinality of C × C × C:\", len(C3))"
      ],
      "metadata": {
        "id": "gk50RGORWZF8",
        "outputId": "91a7881a-f78d-4bb6-b541-d0b69476ec52",
        "colab": {
          "base_uri": "https://localhost:8080/"
        }
      },
      "execution_count": 84,
      "outputs": [
        {
          "output_type": "stream",
          "name": "stdout",
          "text": [
            "A × B: {('a', '2'), ('a', '5'), ('a', '4'), ('c', '0'), ('c', '1'), ('c', '3'), ('d', '3'), ('f', '3'), ('f', '0'), ('d', '0'), ('d', '1'), ('f', '1'), ('b', '3'), ('b', '0'), ('e', '3'), ('e', '0'), ('b', '1'), ('c', '2'), ('c', '5'), ('e', '1'), ('c', '4'), ('d', '2'), ('f', '2'), ('d', '4'), ('f', '4'), ('d', '5'), ('f', '5'), ('b', '2'), ('e', '2'), ('e', '4'), ('b', '5'), ('b', '4'), ('e', '5'), ('a', '3'), ('a', '0'), ('a', '1')}\n",
            "Cardinality of A × B: 36\n",
            "C × C × C: {(1, 0, 1), (1, 1, 0), (0, 1, 0), (0, 0, 0), (1, 0, 0), (0, 0, 1), (1, 1, 1), (0, 1, 1)}\n",
            "Cardinality of C × C × C: 8\n"
          ]
        }
      ]
    },
    {
      "cell_type": "markdown",
      "metadata": {
        "id": "FIlAjUiBczr-"
      },
      "source": [
        "### Exercise 3.10"
      ]
    },
    {
      "cell_type": "markdown",
      "metadata": {
        "id": "3vlcLLl-kzRf"
      },
      "source": [
        "Which pairs of the following sets are pairwise disjoint?\n",
        "1. The set of all even numbers.\n",
        "2. The set of all odd numbers.\n",
        "3. The set of all nonnegative powers of 2."
      ]
    },
    {
      "cell_type": "markdown",
      "metadata": {
        "id": "_nN-MRx8czr-"
      },
      "source": [
        "#### Your Answer:\n",
        "\n",
        "Even and odd numbers are disjoint because they don’t have any numbers in common.  \n",
        "Odd numbers and powers of 2 are also disjoint since powers of 2 are mostly even, except for 1.  \n",
        "However, even numbers and powers of 2 are not disjoint because they share numbers like 2, 4, and 8.\n",
        "\n"
      ]
    },
    {
      "cell_type": "markdown",
      "metadata": {
        "id": "IMHczLMQlaSt"
      },
      "source": [
        "### Exercise 3.11"
      ]
    },
    {
      "cell_type": "markdown",
      "metadata": {
        "id": "hZTgwZA-czr-"
      },
      "source": [
        "List all partitions of the set $A = \\{a,b,c\\}$.\n",
        "\n",
        "\n",
        "Question adapted from [Applied Discrete Structures](https://discretemath.org/) by Alan Doerr & Kenneth Levasseur which is licensed under a [Creative Commons Attribution-NonCommercial-ShareAlike 3.0 United States License](http://creativecommons.org/licenses/by-nc-sa/3.0/us/).\n"
      ]
    },
    {
      "cell_type": "markdown",
      "metadata": {
        "id": "iRX6sYjAbbhN"
      },
      "source": [
        "#### Your Answer:\n",
        "\n",
        "1. {{a}, {b}, {c}}  \n",
        "2. {{a}, {b, c}}  \n",
        "3. {{b}, {a, c}}  \n",
        "4. {{c}, {a, b}}  \n",
        "5. {{a, b, c}}\n"
      ]
    },
    {
      "cell_type": "markdown",
      "metadata": {
        "id": "HCjgnJwTbbhN"
      },
      "source": [
        "----------------------\n",
        "## Sample Solutions\n",
        "\n",
        "**Note**:\n",
        "Sample solutions are provided in order to help you **learn**. The purpose of these exercises is not to simply turn in the answers, but to take the time and effort to learn and understand the material. You are encouraged to work the problems first, then when you are satisfied that you have the correct answer, look at the sample solution and compare it with yours."
      ]
    },
    {
      "cell_type": "markdown",
      "metadata": {
        "id": "Ua3GZ_5wczr_"
      },
      "source": [
        "### Sample Solution 3.1"
      ]
    },
    {
      "cell_type": "markdown",
      "metadata": {
        "id": "XFRgKbxMczr_"
      },
      "source": [
        "These answers are not unique.\n",
        "\n",
        "1. 8, 15, 22, 29\n",
        "2. apple, pear, peach, plum\n",
        "3. 1/2, 1/3, 1/4, 1/5\n",
        "4. -2, -4, -6, -8\n",
        "5. 6, 10, 15, 21\n"
      ]
    },
    {
      "cell_type": "markdown",
      "metadata": {
        "id": "yb_A895Sczr_"
      },
      "source": [
        "### Sample Solution 3.2"
      ]
    },
    {
      "cell_type": "markdown",
      "metadata": {
        "id": "Gx_8quCZczr_"
      },
      "source": [
        "1. {2,3}\n",
        "2. {0,2,3}\n",
        "3. {0,2,3}\n",
        "4. {0,1,2,3,5,9}\n",
        "5. {0}\n",
        "6. {}\n",
        "7. {1,4,5,6,7,8,9}\n",
        "8. {0,2,3,4,6,7,8}\n",
        "9. {}\n",
        "10. {0}\n"
      ]
    },
    {
      "cell_type": "markdown",
      "metadata": {
        "id": "857lcnXFczr_"
      },
      "source": [
        "### Sample Solution 3.3"
      ]
    },
    {
      "cell_type": "code",
      "execution_count": null,
      "metadata": {
        "id": "yglBT-UuAZqI"
      },
      "outputs": [],
      "source": [
        "A = {0,2,3}\n",
        "B = {2,3}\n",
        "C = {1,5,9}\n",
        "U = {0,1,2,3,4,5,6,7,8,9}\n",
        "\n",
        "print('1.', A & B)\n",
        "print('2.', A | B)\n",
        "print('3.', B | A)\n",
        "print('4.', A | C)\n",
        "print('5.', A - B)\n",
        "print('6.', B - A)\n",
        "print('7.', U - A)\n",
        "print('8.', U - C)\n",
        "print('9.', A & C)\n",
        "print('10.', A.symmetric_difference(B))\n",
        "print('10.', (A - B) | (B - A)) # Another way to do symmetric difference\n",
        "\n"
      ]
    },
    {
      "cell_type": "markdown",
      "metadata": {
        "id": "yQevutfXczr_"
      },
      "source": [
        "### Sample Solution 3.4"
      ]
    },
    {
      "cell_type": "code",
      "execution_count": null,
      "metadata": {
        "id": "XpOc4wUZczsA"
      },
      "outputs": [],
      "source": [
        "English_alphabet = set('ABCDEFGHIJKLMNOPQRSTUVWXYZ')\n",
        "Hawaiian_alphabet = set('AEIOUHKLMNPW')\n",
        "print('1.', len(Hawaiian_alphabet))\n",
        "print('2.', Hawaiian_alphabet.issubset(English_alphabet) and not Hawaiian_alphabet == English_alphabet)\n",
        "intersection = English_alphabet.intersection(Hawaiian_alphabet)\n",
        "print('3. Intersection: ', intersection, ' Cardinality: ', len(intersection))\n",
        "print('  ', intersection == Hawaiian_alphabet)\n",
        "print(\"   It's no surprise that the intersection is just the Hawaiian alphabet,\")\n",
        "print(\"   given that it's a proper subset of the English alphabet.\")\n",
        "print()\n",
        "union = English_alphabet.union(Hawaiian_alphabet)\n",
        "print('4. Union: ', union, ' Cardinality: ', len(union))\n",
        "difference = English_alphabet - Hawaiian_alphabet\n",
        "print('5. Difference: ', difference, ' Cardinality: ', len(difference))\n",
        "symmetric_difference = English_alphabet.symmetric_difference(Hawaiian_alphabet)\n",
        "print('6. Symmetric Difference ', symmetric_difference, ' Cardinality: ', len(symmetric_difference))\n",
        "print('7.', difference == symmetric_difference)\n",
        "print('''   This is true because the symmetric difference is all of the elements\n",
        "   that are in only one of the sets, but every element in the Hawaiian alphabet\n",
        "   is also in the English alphabet. So the symmetric difference is only those\n",
        "   letters in the English alphabet that are not also in the Hawaiian alphabet.\n",
        "''')"
      ]
    },
    {
      "cell_type": "markdown",
      "metadata": {
        "id": "F5iHWHrzczsA"
      },
      "source": [
        "### Sample Solution 3.5"
      ]
    },
    {
      "cell_type": "code",
      "execution_count": null,
      "metadata": {
        "id": "SBYcatfzczsA"
      },
      "outputs": [],
      "source": [
        "print('1.', sorted({3*n for n in range(101)}))\n",
        "print('2.', sorted({x**2 for x in range(1, 11)}))\n",
        "print('3.', sorted({x for x in range(-4, 5)}))\n",
        "print('4.', sorted({x for x in range(-10, 11) if x%2}))\n",
        "print('5.', sorted({x for x in range(101) if x%10 == 3 or x%10 == 7}))"
      ]
    },
    {
      "cell_type": "markdown",
      "metadata": {
        "id": "eW9Pgz_7czsA"
      },
      "source": [
        "### Sample Solution 3.6"
      ]
    },
    {
      "cell_type": "code",
      "execution_count": null,
      "metadata": {
        "id": "GXTiJKcaczsA"
      },
      "outputs": [],
      "source": [
        "print('1.', {1/n for n in [2,4,8,16]})\n",
        "print('2.', {n**2 for n in range(-2,3)})\n",
        "print('3.', {n for n in range(1, 24) if not 24 % n})\n",
        "print('4.', {a for a in 'ABCDEFGHIJKLMNOPQRSTUVWXYZ' if a < 'F'})"
      ]
    },
    {
      "cell_type": "markdown",
      "metadata": {
        "id": "IxFP_o0DczsA"
      },
      "source": [
        "### Sample Solution 3.7"
      ]
    },
    {
      "cell_type": "code",
      "execution_count": null,
      "metadata": {
        "id": "QF919GqlMxos"
      },
      "outputs": [],
      "source": [
        "A = {'verve', 'vim', 'vigor'}\n",
        "print('A =', A)\n",
        "B = {'butter', 'vinegar', 'pepper', 'vigor'}\n",
        "print('B =', B)\n",
        "C = A.union(B)\n",
        "print('1. C =', C)\n",
        "D = A.intersection(B)\n",
        "print('2. D =', D)\n",
        "start_with_v = {word for word in C if word[0] == 'v'}\n",
        "print('3. start_with_v =', start_with_v)\n",
        "end_with_r = {word for word in C if word[-1:] == 'r'}\n",
        "print('4. end_with_r =', end_with_r)\n",
        "start_with_v_and_end_with_r = start_with_v.intersection(end_with_r)\n",
        "print('5. start_with_v_and_end_with_r =', start_with_v_and_end_with_r)\n",
        "subset_of_D_of_words_with_five_letters = {word for word in D if len(word) == 5}\n",
        "print('6. subset_of_D_of_words_with_five_letters =', subset_of_D_of_words_with_five_letters)\n",
        "subset_of_D_of_words_with_six_letters = {word for word in D if len(word) == 6}\n",
        "print('7. subset_of_D_of_words_with_six_letters =', subset_of_D_of_words_with_six_letters)"
      ]
    },
    {
      "cell_type": "markdown",
      "metadata": {
        "id": "PWvzK6NGczsB"
      },
      "source": [
        "### Sample Solution 3.8"
      ]
    },
    {
      "cell_type": "markdown",
      "metadata": {
        "id": "uHUnTCBvczsB"
      },
      "source": [
        "1. $\\{(0,2), (0,3), (2,2), (2,3), (3,2), (3,3)\\}$\n",
        "2. $\\{(2,0), (2,2), (2,3), (3,0), (3,2), (3,3)\\}$\n",
        "3. $\\{(0,2,1), (0,2,4), (0,3,1), (0,3,4), (2,2,1), (2,2,4), (2,3,1), (2,3,4), (3,2,1), (3,2,4), (3,3,1), (3,3,4)\\}$\n",
        "4. $\\emptyset$\n",
        "5. $\\{(0,1), (0,4), (2,1), (2,4), (3,1), (3,4)\\}$\n",
        "6. $\\{(2,2), (2,3), (3,2), (3,3)\\}$"
      ]
    },
    {
      "cell_type": "code",
      "execution_count": null,
      "metadata": {
        "id": "YBk5SWEEczsB"
      },
      "outputs": [],
      "source": [
        "# Using Python\n",
        "A = {0,2,3}\n",
        "B = {2,3}\n",
        "C = {1,4}\n",
        "U = {0,1,2,3,4}\n",
        "\n",
        "print('1.',{(a,b) for a in A for b in B})\n",
        "print('2.',{(b,a) for b in B for a in A})\n",
        "print('3.',{(a,b,c) for a in A for b in B for c in C})\n",
        "print('4.',{(u, x) for u in U for x in set()})\n",
        "print('5.',{(a,na) for a in A for na in U - A})\n",
        "print('6.',{(b1,b2) for b1 in B for b2 in B})"
      ]
    },
    {
      "cell_type": "markdown",
      "metadata": {
        "id": "Q9VTZDvuczsB"
      },
      "source": [
        "### Sample Solution 3.9"
      ]
    },
    {
      "cell_type": "code",
      "execution_count": null,
      "metadata": {
        "id": "FmilLAoYczsB"
      },
      "outputs": [],
      "source": [
        "# Sample solution for Exercise 3.9\n",
        "\n",
        "# 1\n",
        "A = {'a', 'b', 'c', 'd', 'e', 'f'}\n",
        "B = {0,1,2,3,4,5}\n",
        "prod = {(a,b) for a in A for b in B}\n",
        "print('1.', *prod)\n",
        "\n",
        "# 2\n",
        "print('2.', len(prod))\n",
        "\n",
        "# Alternatively, use the product function from itertools\n",
        "from itertools import product\n",
        "print('1.', *product(A,B))\n",
        "\n",
        "# 3\n",
        "C = [0,1]\n",
        "prod = [(p1,p2,p3) for p1 in C for p2 in C for p3 in C]\n",
        "print('3.',prod)\n",
        "\n",
        "# 4\n",
        "print('4.', len(prod))"
      ]
    },
    {
      "cell_type": "markdown",
      "metadata": {
        "id": "Kapuv009czsB"
      },
      "source": [
        "### Sample Solution 3.10"
      ]
    },
    {
      "cell_type": "markdown",
      "metadata": {
        "id": "HH2ryVMVczsB"
      },
      "source": [
        "The evens are disjoint from the odds. No other two sets are pairwise disjoint,\n",
        "because the zero'th power of 2 is 1, an odd number, while every other nonnegative\n",
        "power of 2 is even."
      ]
    },
    {
      "cell_type": "markdown",
      "metadata": {
        "id": "ZHFXdSvSczsB"
      },
      "source": [
        "### Sample Solution 3.11"
      ]
    },
    {
      "cell_type": "markdown",
      "metadata": {
        "id": "DZlW4X8-czsC"
      },
      "source": [
        "{a,b,c}\n",
        "\n",
        "{a}, {b,c}\n",
        "\n",
        "{a,b}, {c}\n",
        "\n",
        "{a,c}, {b}\n",
        "\n",
        "{a}, {b}, {c}"
      ]
    }
  ],
  "metadata": {
    "colab": {
      "collapsed_sections": [
        "HCjgnJwTbbhN"
      ],
      "name": "cse280-homework-03.ipynb",
      "provenance": [],
      "toc_visible": true
    },
    "interpreter": {
      "hash": "1977c1262a5a71e57f8e1e2a9337f4268800bf2d1a595fc1ecb322ccb8b2351d"
    },
    "kernelspec": {
      "display_name": "Python 3.9.0 ('.env': venv)",
      "language": "python",
      "name": "python3"
    },
    "language_info": {
      "codemirror_mode": {
        "name": "ipython",
        "version": 3
      },
      "file_extension": ".py",
      "mimetype": "text/x-python",
      "name": "python",
      "nbconvert_exporter": "python",
      "pygments_lexer": "ipython3",
      "version": "3.9.0"
    }
  },
  "nbformat": 4,
  "nbformat_minor": 0
}