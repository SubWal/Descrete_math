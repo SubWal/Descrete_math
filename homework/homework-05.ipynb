{
  "cells": [
    {
      "cell_type": "markdown",
      "metadata": {
        "id": "_Mr3AvSgSswx"
      },
      "source": [
        "# Homework 5 - Relations"
      ]
    },
    {
      "cell_type": "markdown",
      "metadata": {
        "id": "w1t0weuGbbhA"
      },
      "source": [
        "**Instructions:** Complete the exercises below.\n",
        "\n",
        "1. Make a copy of this Colab Notebook using **`File -> Save a copy in Drive`**.\n",
        "\n",
        "2. Answer the exercise questions below. Type your answers to each question by double-clicking on **`Your Answer`** and typing your response.\n",
        "\n",
        "    Note that you can use any combination of plain text, Markdown, or LaTeX. As a last resort, you can simply take a picture of your handwritten work and upload it to an answer cell below.\n",
        "\n",
        "3. To submit your work, turn in the URL for your Colab notebook by clicking \"Share\" then \"Copy Link\"."
      ]
    },
    {
      "cell_type": "markdown",
      "metadata": {
        "id": "bEsUKV6DbbhB"
      },
      "source": [
        "**Note**:\n",
        "Sample solutions are provided in order to help you **learn**. The purpose of these exercises is not to simply turn in the answers, but to take the time and effort to learn and understand the material. You are encouraged to work the problems first, then when you are satisfied that you have the correct answer, look at the sample solution and compare it with yours."
      ]
    },
    {
      "cell_type": "markdown",
      "metadata": {
        "id": "dv4Eo7tO0Dpq"
      },
      "source": [
        "As you complete the problems below, you may use Python whenever you can think of a way it could help you answer the question."
      ]
    },
    {
      "cell_type": "markdown",
      "metadata": {
        "id": "e9fcFDTx0Dpr"
      },
      "source": [
        "### Notes about drawing graphs\n",
        "\n",
        "Some of the problems will require you to draw a graph. You may\n",
        "\n",
        "1. (Preferred) Use a Python tool such as `Graphviz`. See the examples below.\n",
        "\n",
        "    For additional help with `Graphviz`, see [A Quick Introduction to Graphviz](https://www.worthe-it.co.za/blog/2017-09-19-quick-introduction-to-graphviz.html) and the [Graphviz Documentation](https://graphviz.org/documentation/), especially the [Attributes](https://graphviz.org/doc/info/attrs.html) page.\n",
        "\n",
        "    or\n",
        "    \n",
        "2. Draw them by hand and take a picture. To easily include a picture in Colab, open a **text** cell and use the \"Insert Image\" button or copy/paste a picture into the cell. Colab will automatically convert it to Base-64 encoding. Type \"ESC\" to close the cell and you'll see the picture. (For very large images, this might be slow...try resizing your images first if they are very large.)\n"
      ]
    },
    {
      "cell_type": "markdown",
      "metadata": {
        "id": "9EDi9AUL0Dps"
      },
      "source": [
        "Here's an example of how to draw a directed graph using `graphviz`. Note how you can specify the nodes and labels for those nodes like this:\n",
        "\n",
        "`a->b`  \n",
        "\n",
        "Which specifies a node called \"a\" with an edge going to \"b\"."
      ]
    },
    {
      "cell_type": "code",
      "execution_count": 1,
      "metadata": {
        "colab": {
          "base_uri": "https://localhost:8080/",
          "height": 262
        },
        "id": "KDFiffE90Dps",
        "outputId": "2a3bbfa5-21eb-4c05-931b-f0d1cb907076"
      },
      "outputs": [
        {
          "output_type": "display_data",
          "data": {
            "image/png": "[encoded data removed]",
            "text/plain": [
              "<IPython.core.display.Image object>"
            ]
          },
          "metadata": {}
        }
      ],
      "source": [
        "sample_directed_graph = '''\n",
        "digraph {\n",
        "    layout=neato;\n",
        "    label=\"Sample Graph\";\n",
        "    labeljust=l;\n",
        "    labelloc=t;\n",
        "    edge [arrowsize=0.75]; # specifies the arrowhead size\n",
        "    node [shape=circle; fixedsize=true; width=0.30]; # specifies the node size/shape\n",
        "    a->b;\n",
        "    b->a;\n",
        "    a->c;\n",
        "    a->d;\n",
        "    b->c;\n",
        "    d->d;\n",
        "  }\n",
        " '''\n",
        "from graphviz import Source\n",
        "from IPython.display import Image, display\n",
        "display(Image(Source(sample_directed_graph, format='png').render()))"
      ]
    },
    {
      "cell_type": "markdown",
      "metadata": {
        "id": "tWpt07z8bbhB"
      },
      "source": [
        "### Exercise 5.1"
      ]
    },
    {
      "cell_type": "markdown",
      "metadata": {
        "id": "kxjplwJV-ryF"
      },
      "source": [
        "Which of the following pairs are in the relation on the set $\\{1, 2, 3, 4\\}$ given by the description $\\{(x, y)\\ \\vert\\ x > y + 1\\}$? Use a Python lambda function or set comprehension to verify your response.\n",
        "\n",
        "1. $(2, 1)$\n",
        "2. $(2, 2)$\n",
        "3. $(2, 3)$\n",
        "4. $(2, 4)$\n",
        "5. $(3, 1)$\n",
        "6. $(3, 2)$\n",
        "7. $(4, 1)$\n",
        "8. $(4, 2)$\n",
        "9. $(4, 3)$\n"
      ]
    },
    {
      "cell_type": "code",
      "source": [
        "# Define the set\n",
        "S = {1, 2, 3, 4}\n",
        "\n",
        "# Generate all possible pairs (x, y) from the set S\n",
        "all_pairs = [(x, y) for x in S for y in S]\n",
        "\n",
        "#  Use lambda function and filter to apply the condition x > y + 1\n",
        "relation = list(filter(lambda pair: pair[0] > pair[1] + 1, all_pairs))\n",
        "\n",
        "#  Print the result\n",
        "print(\"Pairs (x, y) such that x > y + 1 from the set {1, 2, 3, 4}:\")\n",
        "print(relation)\n"
      ],
      "metadata": {
        "colab": {
          "base_uri": "https://localhost:8080/"
        },
        "id": "1LmHiiAOuINE",
        "outputId": "6080f1ce-e308-441a-ec15-4e0c51f94bbd"
      },
      "execution_count": 4,
      "outputs": [
        {
          "output_type": "stream",
          "name": "stdout",
          "text": [
            "Pairs (x, y) such that x > y + 1 from the set {1, 2, 3, 4}:\n",
            "[(3, 1), (4, 1), (4, 2)]\n"
          ]
        }
      ]
    },
    {
      "cell_type": "markdown",
      "metadata": {
        "id": "JIVFRE_KbbhC"
      },
      "source": []
    },
    {
      "cell_type": "markdown",
      "metadata": {
        "id": "jDG17_wlG06Q"
      },
      "source": [
        "### Exercise 5.2\n",
        "\n"
      ]
    },
    {
      "cell_type": "markdown",
      "metadata": {
        "id": "C0UBBuv1G5h9"
      },
      "source": [
        "For each of the following relations, determine whether the relation is an Equivalence Relation. The first four problems have people as their domain. The last four problems have numbers as their domain.\n",
        "\n",
        "If the relation is an Equivalence Relation (ER), explain or show how it has reflexivity, symmetry, and transitivity. If not, explain which of these three properties it lacks."
      ]
    },
    {
      "cell_type": "markdown",
      "metadata": {
        "id": "MDh0fILeG-ad"
      },
      "source": [
        "1. $xRy$ if $x$ and $y$ are siblings.\n",
        "2. $xRy$ if $x$ and $y$ have the same parents.\n",
        "3. $xRy$ if $x$ and $y$ share a common parent.\n",
        "4. $xRy$ if $x$ and $y$ speak a common language.\n",
        "5. $xRy$ if $x$ shares a vowel with $y$, with English words as $R$'s domain.\n",
        "6. $xRy$ if $x \\le y$.\n",
        "7. $xRy$ if $x^{2} + y^{2} = 1$.\n",
        "8. $xRy$ if $x + y = 42$.\n",
        "9. $xRy$ if $\\lceil x \\rceil = \\lfloor y \\rfloor$.\n"
      ]
    },
    {
      "cell_type": "markdown",
      "metadata": {
        "id": "IfX_wofy0Dpy"
      },
      "source": [
        "1. xRy if x and y are siblings\n",
        "Not an Equivalence Relation — lacks reflexivity and transitivity.\n",
        "You are not your own sibling. For example, Maria is not her own sibling. Also, if Maria and Leo are siblings, and Leo and Ava are siblings, Maria and Ava may not be siblings (e.g., half-siblings from different parents).\n",
        "\n",
        "2. xRy if x and y have the same parents\n",
        "This is an Equivalence Relation.\n",
        "\n",
        "Reflexive: Everyone has the same parents as themselves.\n",
        "\n",
        "Symmetric: If Alex and Zoe have the same parents, then Zoe and Alex do too.\n",
        "\n",
        "Transitive: If Alex and Zoe have the same parents, and Zoe and Max do too, then Alex and Max must also have the same parents.\n",
        "\n",
        "3. xRy if x and y share a common parent\n",
        "Not an Equivalence Relation — lacks reflexivity and transitivity.\n",
        "You don’t share a parent with yourself. For example, Ethan doesn't \"share\" a parent with himself. Also, Ethan and Lily may share a mother, and Lily and Sam may share a father, but Ethan and Sam might not share any parent.\n",
        "\n",
        "4. xRy if x and y speak a common language\n",
        "Not an Equivalence Relation — lacks transitivity.\n",
        "If Alice and Ben both speak English, and Ben and Carla both speak French, Alice and Carla might not share a common language. So even though the relation is reflexive and symmetric, transitivity fails.\n",
        "\n",
        "5. xRy if x shares a vowel with y (with English words)\n",
        "Not an Equivalence Relation — lacks transitivity.\n",
        "The word \"sun\" shares the vowel \"u\" with \"fun\", and \"fun\" shares \"a\" with \"fan\", but \"sun\" and \"fan\" share no vowels. So the relation fails transitivity.\n",
        "\n",
        "6. xRy if x ≤ y\n",
        "Not an Equivalence Relation — lacks symmetry.\n",
        "For example, 3 ≤ 4 is true, but 4 ≤ 3 is false. It’s reflexive and transitive, but not symmetric.\n",
        "\n",
        "7. xRy if x² + y² = 1\n",
        "Not an Equivalence Relation — lacks reflexivity and transitivity.\n",
        "For example, x = 1: 1² + 1² = 2, which is not equal to 1, so it fails reflexivity. Also, if x² + y² = 1 and y² + z² = 1, it doesn't follow that x² + z² = 1.\n",
        "\n",
        "8. xRy if x + y = 42\n",
        "Not an Equivalence Relation — lacks reflexivity and transitivity.\n",
        "x + x = 42 is only true when x = 21, so the relation is not reflexive unless the domain is {21}. Also, if x + y = 42 and y + z = 42, it does not imply x + z = 42.\n",
        "\n",
        "9. xRy if ⌈x⌉ = ⌊y⌋\n",
        "Not an Equivalence Relation — lacks reflexivity and symmetry.\n",
        "For example, x = 2.3: ⌈2.3⌉ = 3 and ⌊2.3⌋ = 2 — not equal, so not reflexive. Also, ⌈1.9⌉ = 2 and ⌊2.1⌋ = 2, so (1.9, 2.1) is in R, but (2.1, 1.9) is not, so it's not symmetric either.\n",
        "\n"
      ]
    },
    {
      "cell_type": "markdown",
      "metadata": {
        "id": "i2_OZhQY0SPF"
      },
      "source": [
        "### Exercise 5.3\n"
      ]
    },
    {
      "cell_type": "markdown",
      "metadata": {
        "id": "8gZEkq1p4_5e"
      },
      "source": [
        "For each matrix below, create an arrow diagram and express each relation as a set of ordered pairs.\n",
        "\n",
        "1. $\\begin{bmatrix}\n",
        "   1 & 0 & 1\\\\\n",
        "   0 & 1 & 0\\\\\n",
        "   1 & 0 & 1\n",
        "   \\end{bmatrix}$\n",
        "\n",
        "2. $\\begin{bmatrix}\n",
        "   0 & 1 & 1\\\\\n",
        "   1 & 0 & 0\\\\\n",
        "   0 & 0 & 1\n",
        "   \\end{bmatrix}$\n",
        "\n",
        "3. $\\begin{bmatrix}\n",
        "   1 & 0 & 0 & 1\\\\\n",
        "   0 & 1 & 0 & 0\\\\\n",
        "   0 & 0 & 0 & 0\\\\\n",
        "   0 & 0 & 1 & 1\n",
        "   \\end{bmatrix}$"
      ]
    },
    {
      "cell_type": "markdown",
      "metadata": {
        "id": "BtU404vy0Rbd"
      },
      "source": [
        "#### Your Answer:\n"
      ]
    },
    {
      "cell_type": "code",
      "source": [
        "from graphviz import Digraph\n",
        "from IPython.display import Image, display\n",
        "\n",
        "# Function to draw a relation graph\n",
        "def draw_relation_graph(pairs, nodes, title, filename):\n",
        "    dot = Digraph()\n",
        "    dot.attr(label=title, labelloc=\"t\", layout='neato')\n",
        "    dot.attr('node', shape='circle')\n",
        "\n",
        "    for node in nodes:\n",
        "        dot.node(str(node))\n",
        "\n",
        "    for x, y in pairs:\n",
        "        dot.edge(str(x), str(y))\n",
        "\n",
        "    dot.render(f'/mnt/data/{filename}', format='png', cleanup=True)\n",
        "    display(Image(filename=f'/mnt/data/{filename}.png'))\n",
        "\n",
        "# -------- Matrix 1 --------\n",
        "# [1 0 1]\n",
        "# [0 1 0]\n",
        "# [1 0 1]\n",
        "relation_1 = [(1,1), (1,3), (2,2), (3,1), (3,3)]\n",
        "nodes_1 = [1, 2, 3]\n",
        "draw_relation_graph(relation_1, nodes_1, \"Matrix 1 Relation\", \"matrix1_full_relation\")\n",
        "\n",
        "# -------- Matrix 2 --------\n",
        "# [0 1 1]\n",
        "# [1 0 0]\n",
        "# [0 0 1]\n",
        "relation_2 = [(1,2), (1,3), (2,1), (3,3)]\n",
        "nodes_2 = [1, 2, 3]\n",
        "draw_relation_graph(relation_2, nodes_2, \"Matrix 2 Relation\", \"matrix2_full_relation\")\n",
        "\n",
        "# -------- Matrix 3 --------\n",
        "# [1 0 0 1]\n",
        "# [0 1 0 0]\n",
        "# [0 0 0 0]\n",
        "# [0 0 1 1]\n",
        "relation_3 = [(1,1), (1,4), (2,2), (4,3), (4,4)]\n",
        "nodes_3 = [1, 2, 3, 4]\n",
        "draw_relation_graph(relation_3, nodes_3, \"Matrix 3 Relation\", \"matrix3_full_relation\")\n"
      ],
      "metadata": {
        "colab": {
          "base_uri": "https://localhost:8080/",
          "height": 607
        },
        "id": "qa8HXNRpwruz",
        "outputId": "1e143853-0ec8-4a4f-95df-1790afcddf2d"
      },
      "execution_count": 7,
      "outputs": [
        {
          "output_type": "display_data",
          "data": {
            "image/png": "[encoded data removed]",
            "text/plain": [
              "<IPython.core.display.Image object>"
            ]
          },
          "metadata": {}
        },
        {
          "output_type": "display_data",
          "data": {
            "image/png": "[encoded data removed]",
            "text/plain": [
              "<IPython.core.display.Image object>"
            ]
          },
          "metadata": {}
        },
        {
          "output_type": "display_data",
          "data": {
            "image/png": "[encoded data removed]",
            "text/plain": [
              "<IPython.core.display.Image object>"
            ]
          },
          "metadata": {}
        }
      ]
    },
    {
      "cell_type": "markdown",
      "metadata": {
        "id": "Lr-0yejn1FxE"
      },
      "source": [
        "### Exercise 5.4\n"
      ]
    },
    {
      "cell_type": "markdown",
      "metadata": {
        "id": "D8Y4U9Lc5GVT"
      },
      "source": [
        "For each of the arrow diagrams given below, create the Matrix representation and show the relation as a set of ordered pairs. \\\n",
        "*Note there are 3 cells each containing a graph*"
      ]
    },
    {
      "cell_type": "code",
      "execution_count": null,
      "metadata": {
        "colab": {
          "base_uri": "https://localhost:8080/",
          "height": 255
        },
        "id": "DdGkFx1P6zJS",
        "outputId": "1c777066-08fb-4f19-f403-6d7a3ddfd1ec"
      },
      "outputs": [
        {
          "data": {
            "image/png": "[encoded data removed]",
            "text/plain": [
              "<IPython.core.display.Image object>"
            ]
          },
          "metadata": {},
          "output_type": "display_data"
        }
      ],
      "source": [
        "#@title show code  {display-mode: \"form\"}\n",
        "graph64a = '''\n",
        "digraph {\n",
        "    label=\"Diagram A\";\n",
        "    labeljust=l;\n",
        "    labelloc=t;\n",
        "    layout=neato;\n",
        "    edge [arrowsize=0.75];\n",
        "    node [shape=circle; fixedsize=true; width=0.30];\n",
        "    1->2;\n",
        "    1->3;\n",
        "    3->3;\n",
        "    2->1;\n",
        "  }\n",
        " '''\n",
        "from graphviz import Source\n",
        "from IPython.display import Image, display\n",
        "display(Image(Source(graph64a, format='png').render()))"
      ]
    },
    {
      "cell_type": "code",
      "execution_count": null,
      "metadata": {
        "colab": {
          "base_uri": "https://localhost:8080/",
          "height": 194
        },
        "id": "9djOFO-UAEvd",
        "outputId": "a3d2e220-259d-4dd9-8876-cbc143341872"
      },
      "outputs": [
        {
          "data": {
            "image/png": "[encoded data removed]",
            "text/plain": [
              "<IPython.core.display.Image object>"
            ]
          },
          "metadata": {},
          "output_type": "display_data"
        }
      ],
      "source": [
        "#@title show code  {display-mode: \"form\"}\n",
        "graph64b = '''\n",
        "digraph {\n",
        "    layout=neato;\n",
        "    label=\"Diagram B\";\n",
        "    labeljust=l;\n",
        "    labelloc=t;\n",
        "    edge [arrowsize=0.75];\n",
        "    node [shape=circle; fixedsize=true; width=0.30];\n",
        "    1:n->1:n;\n",
        "    1->2;\n",
        "    2->3;\n",
        "    3->1;\n",
        "  }\n",
        " '''\n",
        "display(Image(Source(graph64b, format='png').render()))"
      ]
    },
    {
      "cell_type": "code",
      "execution_count": null,
      "metadata": {
        "colab": {
          "base_uri": "https://localhost:8080/",
          "height": 171
        },
        "id": "h5kzNL_1AShr",
        "outputId": "0fac30f0-62ea-4181-fcc4-04a371e1fb54"
      },
      "outputs": [
        {
          "data": {
            "image/png": "[encoded data removed]",
            "text/plain": [
              "<IPython.core.display.Image object>"
            ]
          },
          "metadata": {},
          "output_type": "display_data"
        }
      ],
      "source": [
        "#@title show code  {display-mode: \"form\"}\n",
        "graph64c = '''\n",
        "digraph {\n",
        "    layout=neato;\n",
        "    label=\"Diagram C\";\n",
        "    labeljust=l;\n",
        "    labelloc=t;\n",
        "    edge [arrowsize=0.75];\n",
        "    node [shape=circle; fixedsize=true; width=0.30];\n",
        "    1->1;\n",
        "    2->3;\n",
        "    3->4;\n",
        "    4->2;\n",
        "    2->4;\n",
        "    3->3;\n",
        "    4->4;\n",
        "  }\n",
        " '''\n",
        "display(Image(Source(graph64c, format='png').render()))"
      ]
    },
    {
      "cell_type": "markdown",
      "metadata": {
        "id": "pKd89jg71PFu"
      },
      "source": [
        "### 1. Relation from Matrix\n",
        "\n",
        "\n",
        "\\begin{bmatrix}\n",
        "0 & 1 & 1 \\\\\n",
        "1 & 0 & 0 \\\\\n",
        "0 & 0 & 1\n",
        "\\end{bmatrix}\n",
        "\n",
        "\\[\n",
        "\\{(1, 2), (1, 3), (2, 1), (3, 3)\\}\n",
        "\\]\n",
        "\n",
        "---\n",
        "\n",
        "### 2. Relation from Matrix\n",
        "\n",
        "\n",
        "\\begin{bmatrix}\n",
        "1 & 1 & 0 \\\\\n",
        "0 & 0 & 1 \\\\\n",
        "1 & 0 & 0\n",
        "\\end{bmatrix}\n",
        "\n",
        "\n",
        "\\[\n",
        "\\{(1, 1), (1, 2), (2, 3), (3, 1)\\}\n",
        "\\]\n",
        "\n",
        "---\n",
        "\n",
        "### 3. Relation from Matrix\n",
        "\n",
        "\n",
        "\\begin{bmatrix}\n",
        "1 & 0 & 0 & 0 \\\\\n",
        "0 & 0 & 1 & 1 \\\\\n",
        "0 & 0 & 1 & 1 \\\\\n",
        "0 & 1 & 0 & 1\n",
        "\\end{bmatrix}\n",
        "\n",
        "\n",
        "\\[\n",
        "\\{(1, 1), (2, 3), (2, 4), (3, 3), (3, 4), (4, 2), (4, 4)\\}\n",
        "\\]\n"
      ]
    },
    {
      "cell_type": "markdown",
      "metadata": {
        "id": "QpZV0mV01RKZ"
      },
      "source": [
        "### Exercise 5.5"
      ]
    },
    {
      "cell_type": "markdown",
      "metadata": {
        "id": "RVkhpMF5A8pZ"
      },
      "source": [
        "For each of the following relations, indicate if the relation is:\n",
        "* Reflexive, Anti-Reflexive, or neither\n",
        "* Symmetric, Anti-Symmetric, or neither\n",
        "* Transitive or not Transitive\n",
        "\n",
        "1. The domain of the relation R is {b}. R = {(b, b)}\n",
        "2. The domain of the relation R is {a, b, c}. R = {(a, a), (b, b), (c, c)}\n",
        "3. The domain of the relation R is {a, b, c}. R = {(a, b), (a, c), (b, c), (c, b)}\n",
        "4. The domain of the relation R is {a, b, c, d, e}. R = {(a, b), (a, c), (a, d), (a, e), (b, e), (d, b), (e, b)}\n",
        "5. The domain of the relation R is {a, b}. R = {(a, b), (a, a), (b, a), (b, b)}"
      ]
    },
    {
      "cell_type": "markdown",
      "metadata": {
        "id": "2PdCkSC-1Uye"
      },
      "source": [
        "### 1. Domain = {b}, R = {(b, b)}\n",
        "- Reflexive  \n",
        "- Symmetric  \n",
        "- Anti-Symmetric  \n",
        "- Transitive\n",
        "\n",
        "---\n",
        "\n",
        "### 2. Domain = {a, b, c}, R = {(a, a), (b, b), (c, c)}\n",
        "- Reflexive  \n",
        "- Symmetric  \n",
        "- Anti-Symmetric  \n",
        "- Transitive\n",
        "\n",
        "---\n",
        "\n",
        "### 3. Domain = {a, b, c}, R = {(a, b), (a, c), (b, c), (c, b)}\n",
        "- Anti-Reflexive  \n",
        "- Neither Symmetric nor Anti-Symmetric  \n",
        "- Not Transitive\n",
        "\n",
        "---\n",
        "\n",
        "### 4. Domain = {a, b, c, d, e}, R = {(a, b), (a, c), (a, d), (a, e), (b, e), (d, b), (e, b)}\n",
        "- Anti-Reflexive  \n",
        "- Neither Symmetric nor Anti-Symmetric  \n",
        "- Not Transitive\n",
        "\n",
        "---\n",
        "\n",
        "### 5. Domain = {a, b}, R = {(a, b), (a, a), (b, a), (b, b)}\n",
        "- Reflexive  \n",
        "- Symmetric  \n",
        "- Not Anti-Symmetric  \n",
        "- Transitive\n"
      ]
    },
    {
      "cell_type": "markdown",
      "metadata": {
        "id": "xArPwVRM1viA"
      },
      "source": [
        "### Exercise 5.6"
      ]
    },
    {
      "cell_type": "markdown",
      "metadata": {
        "id": "1lerP2Jf5cqa"
      },
      "source": [
        "Here are two relations: \\\n",
        "A = { (x, y, z) : x, y, z are positive integers, x < y < z < 5} \\\n",
        "B = { (a, b, c) : a, b, c are positive integers, a != b, b != c, a != c, and (a + b + c) = 6 }\n",
        "\n",
        "a) Express A as a set of triples in roster format. \\\n",
        "b) Express B as a set of triples in roster format. \\\n",
        "c) Express A $\\cap$ B in roster format."
      ]
    },
    {
      "cell_type": "markdown",
      "metadata": {
        "id": "e_7689xT1yhn"
      },
      "source": [
        "**a)**  \n",
        "A = { (1, 2, 3), (1, 2, 4), (1, 3, 4), (2, 3, 4) }\n",
        "\n",
        "**b)**  \n",
        "B = { (1, 2, 3), (1, 3, 2), (2, 1, 3), (2, 3, 1), (3, 1, 2), (3, 2, 1) }\n",
        "\n",
        "**c)**  \n",
        "A ∩ B = { (1, 2, 3) }\n"
      ]
    },
    {
      "cell_type": "markdown",
      "metadata": {
        "id": "HCjgnJwTbbhN"
      },
      "source": [
        "----------------------\n",
        "## Sample Solutions\n",
        "\n",
        "**Note**:\n",
        "Sample solutions are provided in order to help you **learn**. The purpose of these exercises is not to simply turn in the answers, but to take the time and effort to learn and understand the material. You are encouraged to work the problems first, then when you are satisfied that you have the correct answer, look at the sample solution and compare it with yours."
      ]
    },
    {
      "cell_type": "markdown",
      "metadata": {
        "id": "klO6DoW-0Dp3"
      },
      "source": [
        "### Sample Solution 5.1\n"
      ]
    },
    {
      "cell_type": "code",
      "execution_count": 2,
      "metadata": {
        "id": "DTh_8bcp0Dp3",
        "colab": {
          "base_uri": "https://localhost:8080/"
        },
        "outputId": "a6649445-877f-4471-8b97-2115459dec0d"
      },
      "outputs": [
        {
          "output_type": "stream",
          "name": "stdout",
          "text": [
            "[(3, 1), (4, 1), (4, 2)]\n",
            "[(3, 1), (4, 1), (4, 2)]\n",
            "(3, 1)\n",
            "(4, 1)\n",
            "(4, 2)\n",
            "[(3, 1), (4, 1), (4, 2)]\n"
          ]
        }
      ],
      "source": [
        "s = {1, 2, 3, 4}\n",
        "\n",
        "# Using list comprehension\n",
        "r = [(x,y) for x in s for y in s if x > y + 1]\n",
        "print(r)\n",
        "\n",
        "\n",
        "# Using lambda\n",
        "r = [*filter(lambda pair: pair[0] > pair[1]+1, [(x,y) for x in s for y in s])]\n",
        "print(r)\n",
        "\n",
        "# Using nested for loops\n",
        "for x in range(1, 5):\n",
        "  for y in range(1, 5):\n",
        "    if (lambda x, y: x > y + 1)(x, y):\n",
        "      print(f'{(x, y)}')\n",
        "\n",
        "\n",
        "# Using reduce\n",
        "from functools import reduce\n",
        "r = reduce(lambda a,b: a + [(b[0], b[1])] if b[0] > b[1] + 1 else a, [[], *[(x,y) for x in s for y in s]])\n",
        "print(r)"
      ]
    },
    {
      "cell_type": "markdown",
      "metadata": {
        "id": "bEUbtbfZ0Dpy"
      },
      "source": [
        "### Sample Solution 5.2\n"
      ]
    },
    {
      "cell_type": "markdown",
      "metadata": {
        "id": "zE8UoLrr2qya"
      },
      "source": [
        "1. Not an ER, lacks reflexivity. You are not your own sibling.\n",
        "2. Reflexivity: you have the same parents as yourself.\n",
        "   Symmetry: If you have the same parents as your brother, your brother has the same parents as you.\n",
        "   Transitivity: If you have the same parents as your sister,\n",
        "   and your sister has the same parents as your brother,\n",
        "   then you have the same parents as your brother.\n",
        "   Thus this is an ER.\n",
        "3. This is not an ER, because it is not necessarily transitive (assuming biological\n",
        "   parents are what is meant). X may have parents A and B, Y may have parents\n",
        "   B and C, and Z may have parents C and D. Then X and Y share a common parent\n",
        "   (B), Y and Z share a common parent (C), but X and Z do not share a common\n",
        "   parent.\n",
        "4. For similar reasoning to why the relation in Part 3 is not, this is also not an ER.\n",
        "5. Ditto.\n",
        "6. Not an ER, lacks symmetry. 3 is less than or equal to 4, but 4 is not less than or equal to 3.\n",
        "7. Not an ER, lacks transitivity. If $x^{2} + y^{2} = 1$, and $y^{2} + z^{2} = 1$, then $x^{2} + z^{2}$ does not necessarily $= 1$.\n",
        "8. Not an ER, lacks reflexivity. $x + x = 42$ is true for exactly one value, $x = 21$. So unless the universe for this relation consists of the number 21, and nothing else, it cannot be reflexive. If the universe is just the number 21, then it is an ER (trivially).\n",
        "9. Not an ER, lacks reflexivity. $\\lceil 3.14 \\rceil \\ne \\lfloor 3.14 \\rfloor$. Lacks symmetry too."
      ]
    },
    {
      "cell_type": "markdown",
      "metadata": {
        "id": "hacaU9FF5p1c"
      },
      "source": [
        "### Sample Solution 5.3"
      ]
    },
    {
      "cell_type": "markdown",
      "metadata": {
        "id": "LA_kzXZQ5vE_"
      },
      "source": [
        "1. {(1,1) (1,3) (2,2) (3,1) (3,3)}\n",
        "2. {(1,2) (1,3) (2,1) (3,3)}\n",
        "3. {(1,1) (1,4) (2,2) (4,3) (4,4)}"
      ]
    },
    {
      "cell_type": "code",
      "execution_count": null,
      "metadata": {
        "colab": {
          "base_uri": "https://localhost:8080/",
          "height": 148
        },
        "id": "8OUIiD1G56xC",
        "outputId": "26963966-b0de-4d14-fdd7-de73256a6eec"
      },
      "outputs": [
        {
          "data": {
            "image/png": "[encoded data removed]",
            "text/plain": [
              "<IPython.core.display.Image object>"
            ]
          },
          "metadata": {},
          "output_type": "display_data"
        }
      ],
      "source": [
        "# 1 ----------------------------------------\n",
        "\n",
        "sample_directed_graph = '''\n",
        "digraph {\n",
        "    layout=neato;\n",
        "    node [shape=circle];\n",
        "    1:n->1:n;\n",
        "    1->3;\n",
        "    2->2;\n",
        "    3->1;\n",
        "    3->3;\n",
        "  }\n",
        " '''\n",
        "from graphviz import Source\n",
        "from IPython.display import Image, display\n",
        "display(Image(Source(sample_directed_graph, format='png').render()))"
      ]
    },
    {
      "cell_type": "code",
      "execution_count": null,
      "metadata": {
        "colab": {
          "base_uri": "https://localhost:8080/",
          "height": 243
        },
        "id": "qBKUDfjZ55xX",
        "outputId": "2b6a65e0-5bd0-4d0b-859b-187be575b0ea"
      },
      "outputs": [
        {
          "data": {
            "image/png": "[encoded data removed]",
            "text/plain": [
              "<IPython.core.display.Image object>"
            ]
          },
          "metadata": {},
          "output_type": "display_data"
        }
      ],
      "source": [
        "# 2 ----------------------------------------\n",
        "\n",
        "sample_directed_graph = '''\n",
        "digraph {\n",
        "    layout=neato;\n",
        "    node [shape=circle];\n",
        "    1->2;\n",
        "    1->3;\n",
        "    2->1;\n",
        "    3->3;\n",
        "  }\n",
        " '''\n",
        "display(Image(Source(sample_directed_graph, format='png').render()))"
      ]
    },
    {
      "cell_type": "code",
      "execution_count": null,
      "metadata": {
        "colab": {
          "base_uri": "https://localhost:8080/",
          "height": 243
        },
        "id": "DsG-eQzf54AZ",
        "outputId": "5c4fe012-93dd-4997-bb03-2a9a13def3c3"
      },
      "outputs": [
        {
          "data": {
            "image/png": "[encoded data removed]",
            "text/plain": [
              "<IPython.core.display.Image object>"
            ]
          },
          "metadata": {},
          "output_type": "display_data"
        }
      ],
      "source": [
        "# 3 ----------------------------------------\n",
        "\n",
        "sample_directed_graph = '''\n",
        "digraph {\n",
        "    layout=neato;\n",
        "    node [shape=circle];\n",
        "    1->1;\n",
        "    1->4;\n",
        "    2->2;\n",
        "    4->3;\n",
        "    4->4;\n",
        "  }\n",
        " '''\n",
        "display(Image(Source(sample_directed_graph, format='png').render()))"
      ]
    },
    {
      "cell_type": "markdown",
      "metadata": {
        "id": "isSbmIlz6AAN"
      },
      "source": [
        "### Sample Solution 5.4"
      ]
    },
    {
      "cell_type": "markdown",
      "metadata": {
        "id": "vBE2N6Fs6E6m"
      },
      "source": [
        "1. $\\begin{bmatrix}\n",
        "   0 & 1 & 1\\\\\n",
        "   1 & 0 & 0\\\\\n",
        "   0 & 0 & 1\n",
        "   \\end{bmatrix} $\n",
        "\n",
        "   {(1, 2), (1, 3), (2, 1), (3, 3)}\n",
        "\n",
        "2. $\\begin{bmatrix}\n",
        "   1 & 1 & 0\\\\\n",
        "   0 & 0 & 1\\\\\n",
        "   1 & 0 & 0\n",
        "   \\end{bmatrix}$\n",
        "\n",
        "   {(1, 1), (1, 2), (2, 3), (3, 1)}\n",
        "\n",
        "3. $\\begin{bmatrix}\n",
        "   1 & 0 & 0 & 0\\\\\n",
        "   0 & 0 & 1 & 1\\\\\n",
        "   0 & 0 & 1 & 1\\\\\n",
        "   0 & 1 & 0 & 1\\\\\n",
        "   \\end{bmatrix}$\n",
        "\n",
        "   {(1, 1), (2, 3), (2, 4), (3, 3), (3,4), (4, 2), (4, 4)}"
      ]
    },
    {
      "cell_type": "markdown",
      "metadata": {
        "id": "1TJFDM4E68NK"
      },
      "source": [
        "### Sample Solution 5.5"
      ]
    },
    {
      "cell_type": "markdown",
      "metadata": {
        "id": "nV33co9Y6-Fz"
      },
      "source": [
        "1. Reflexive, Symmetric, Anti-Symmetric, Transitive\n",
        "2. Reflexive, Symmetric, Anti-Symmetric, Transitive\n",
        "3. Anti-Reflexive, Neither, Not Transitive\n",
        "4. Anti-Reflexive, Neither, Not Transitive\n",
        "5. Reflexive, Symmetric, Transitive"
      ]
    },
    {
      "cell_type": "markdown",
      "metadata": {
        "id": "apvLlVAX_OL9"
      },
      "source": [
        "### Sample Solution 5.6"
      ]
    },
    {
      "cell_type": "markdown",
      "metadata": {
        "id": "CplRGr1f_PuU"
      },
      "source": [
        "a) {(1,2,3), (1,2,4), (1,3,4), (2,3,4)}\n",
        "\n",
        "b) {(1,2,3), (1,3,2), (2,1,3), (2,3,1), (3,1,2), (3,2,1)}\n",
        "\n",
        "c) {(1,2,3)}"
      ]
    }
  ],
  "metadata": {
    "colab": {
      "collapsed_sections": [
        "HCjgnJwTbbhN"
      ],
      "name": "cse280-homework-05.ipynb",
      "provenance": [],
      "toc_visible": true
    },
    "interpreter": {
      "hash": "1977c1262a5a71e57f8e1e2a9337f4268800bf2d1a595fc1ecb322ccb8b2351d"
    },
    "kernelspec": {
      "display_name": "Python 3.9.0 ('.env': venv)",
      "language": "python",
      "name": "python3"
    },
    "language_info": {
      "codemirror_mode": {
        "name": "ipython",
        "version": 3
      },
      "file_extension": ".py",
      "mimetype": "text/x-python",
      "name": "python",
      "nbconvert_exporter": "python",
      "pygments_lexer": "ipython3",
      "version": "3.9.0"
    }
  },
  "nbformat": 4,
  "nbformat_minor": 0
}