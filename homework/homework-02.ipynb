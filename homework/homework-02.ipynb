{
  "cells": [
    {
      "cell_type": "markdown",
      "metadata": {
        "id": "_Mr3AvSgSswx"
      },
      "source": [
        "# Homework 2 - Predicates and Quantifiers"
      ]
    },
    {
      "cell_type": "markdown",
      "metadata": {
        "id": "w1t0weuGbbhA"
      },
      "source": [
        "**Instructions:** Complete the exercises below.\n",
        "\n",
        "1. Make a copy of this Colab Notebook using **`File -> Save a copy in Drive`**.\n",
        "\n",
        "2. Answer the exercise questions below. Type your answers to each question by double-clicking on **`Your Answer`** and typing your response.\n",
        "\n",
        "    Note that you can use any combination of plain text, Markdown, or LaTeX. As a last resort, you can simply take a picture of your handwritten work and upload it to an answer cell below.\n",
        "\n",
        "3. To submit your work, turn in the URL for your Colab notebook by clicking \"Share\" then \"Copy Link\".  (You should have previously shared your Google Drive \"Colab Notebook\" folder with the instructor and any TAs. If you did not already do that last week, make sure to do it now so they will be able to see your work.)"
      ]
    },
    {
      "cell_type": "markdown",
      "metadata": {
        "id": "bEsUKV6DbbhB"
      },
      "source": [
        "**Note**:\n",
        "Sample solutions are provided in order to help you **learn**. The purpose of these exercises is not to simply turn in the answers, but to take the time and effort to learn and understand the material. You are encouraged to work the problems first, then when you are satisfied that you have the correct answer, look at the sample solution and compare it with yours."
      ]
    },
    {
      "cell_type": "markdown",
      "metadata": {
        "id": "wVhiay011DAK"
      },
      "source": [
        "### Exercise 2.1"
      ]
    },
    {
      "cell_type": "markdown",
      "metadata": {
        "id": "8VGXNVPE1DAK"
      },
      "source": [
        "Explore the relationship between Conditional, Converse, Inverse, and Contrapositive using truth tables. You may construct them by hand, by using LaTeX or Markdown, or by using Python.\n",
        "\n",
        "Given this conditional proposition: $p \\rightarrow q$\n",
        "\n",
        "Construct a truth table showing the conditional, inverse, converse, and contrapositive. Then answer the following questions.\n",
        "\n",
        "1. Based on the truth table, which of them are logically equivalent?\n",
        "\n",
        "2. Is this logical equivalence true? $p \\rightarrow q \\equiv \\lnot p \\lor q$\n",
        "\n",
        "2. Is the negation of a conditional equivalent to negating each of the terms? In other words is the following equivalence true?\n",
        "\n",
        "    $\\lnot(p \\rightarrow q) \\equiv \\lnot p \\rightarrow \\lnot q$\n",
        "\n",
        "4. What is an equivalent statement to $\\lnot (p \\rightarrow q)$? (Use the equivalence in #2 and De Morgan's Laws to help you)"
      ]
    },
    {
      "cell_type": "code",
      "source": [],
      "metadata": {
        "id": "k4wIfTgw4u8x"
      },
      "execution_count": null,
      "outputs": []
    },
    {
      "cell_type": "markdown",
      "metadata": {
        "id": "s_hGB_El1DAK"
      },
      "source": [
        "#### Your Answer:\n",
        "\n",
        "\n",
        "##  Truth Table\n",
        "\n",
        "| p | q | ¬p | ¬q | p → q | q → p | ¬p → ¬q | ¬q → ¬p |\n",
        "|---|---|----|----|--------|--------|-----------|------------|\n",
        "| T | T |  F |  F |   T    |   T    |     T     |     T      |\n",
        "| T | F |  F |  T |   F    |   T    |     T     |     F      |\n",
        "| F | T |  T |  F |   T    |   F    |     F     |     T      |\n",
        "| F | F |  T |  T |   T    |   T    |     T     |     T      |\n",
        "\n",
        "---\n",
        "\n",
        "##  Logical Equivalence\n",
        "\n",
        "- ✅ **p → q** is logically equivalent to **¬q → ¬p** (Contrapositive)\n",
        "- ✅ **q → p** is logically equivalent to **¬p → ¬q** (Converse ≡ Inverse)\n",
        "- ❌ **p → q** is not equivalent to **q → p** or **¬p → ¬q**\n",
        "\n",
        "---\n",
        "\n",
        "##  Is this equivalence true:  \n",
        "### `p → q ≡ ¬p ∨ q`\n",
        "\n",
        "Yes. This is a standard logical identity.\n",
        "\n",
        "### Truth Check:\n",
        "\n",
        "| p | q | ¬p | ¬p ∨ q | p → q |\n",
        "|---|---|----|--------|--------|\n",
        "| T | T |  F |   T    |   T    |\n",
        "| T | F |  F |   F    |   F    |\n",
        "| F | T |  T |   T    |   T    |\n",
        "| F | F |  T |   T    |   T    |\n",
        "\n",
        "1. Based on the truth table, which of them are logically equivalent?  \n",
        "   p → q is logically equivalent to ¬q → ¬p (contrapositive).  \n",
        "   q → p is logically equivalent to ¬p → ¬q (converse and inverse).\n",
        "\n",
        "2. Is this logical equivalence true? p → q ≡ ¬p ∨ q  \n",
        "   Yes, this is true. It can be confirmed using a truth table.\n",
        "\n",
        "3. Is the negation of a conditional equivalent to negating each of the terms?  \n",
        "   No, ¬(p → q) is not the same as ¬p → ¬q. A truth table shows they are not logically equivalent.\n",
        "\n",
        "4. What is an equivalent statement to ¬(p → q)?  \n",
        "   ¬(p → q) is equivalent to ¬(¬p ∨ q), which simplifies using De Morgan’s Laws to p ∧ ¬q.\n"
      ]
    },
    {
      "cell_type": "markdown",
      "metadata": {
        "id": "RB1HA7e-1DAK"
      },
      "source": [
        "### Exercise 2.2"
      ]
    },
    {
      "cell_type": "markdown",
      "source": [],
      "metadata": {
        "id": "WdBJKSTr1gdT"
      }
    },
    {
      "cell_type": "markdown",
      "metadata": {
        "id": "cyTbDUB41DAK"
      },
      "source": [
        "Given the following propositions:\n",
        "\n",
        "$p$: A rider is at least 12 years old.  \\\n",
        "$q$: A rider is at least 18 years old.  \\\n",
        "$r$: A rider is over 48\" tall.\n",
        "\n",
        "Translate each English sentence into a logical expression. Then negate the entire logical expression using parenthesis and the negation operation. Apply De Morgan's law to the resulting expression and translate the final logical expression back into English. Show all steps.\n",
        "\n",
        "1. A rider is at least 12 years old and over 48\" tall.\n",
        "\n",
        "2. A rider is at least 18 years old or is over 48\" tall.\n",
        "\n",
        "3. A rider is at least 18 years old and is 48\" tall or less."
      ]
    },
    {
      "cell_type": "markdown",
      "metadata": {
        "id": "yjvu4AXt1DAL"
      },
      "source": [
        "#### Your Answer:\n",
        "\n",
        "1. A rider is at least 12 years old and over 48\" tall  \n",
        "   - Logical expression: p ∧ r  \n",
        "   - Negation: ¬(p ∧ r)  \n",
        "   - Apply De Morgan: ¬p ∨ ¬r  \n",
        "   - Final English: A rider is not at least 12 years old or is not over 48\" tall\n",
        "\n",
        "2. A rider is at least 18 years old or is over 48\" tall  \n",
        "   - Logical expression: q ∨ r  \n",
        "   - Negation: ¬(q ∨ r)  \n",
        "   - Apply De Morgan: ¬q ∧ ¬r  \n",
        "   - Final English: A rider is not at least 18 years old and is not over 48\" tall\n",
        "\n",
        "3. A rider is at least 18 years old and is 48\" tall or less  \n",
        "   - Logical expression: q ∧ ¬r  \n",
        "   - Negation: ¬(q ∧ ¬r)  \n",
        "   - Apply De Morgan: ¬q ∨ r  \n",
        "   - Final English: A rider is not at least 18 years old or is over 48\" tall\n",
        "\n"
      ]
    },
    {
      "cell_type": "markdown",
      "metadata": {
        "id": "_0ujyNQdbbhJ"
      },
      "source": [
        "### Exercise 2.3"
      ]
    },
    {
      "cell_type": "markdown",
      "metadata": {
        "id": "8Utd8McNw5PO"
      },
      "source": [
        "The domain for this exercise is the set of all people, and:\\\n",
        "$P(x)$ = $\\ x$ is older than 21\\\n",
        "$S(x)$ = $\\ x$ is a student\n",
        "\n",
        "(Remember the **domain** of a variable in a predicate is the set of all possible values for the variable.)\n",
        "\n",
        "Express in good English the following statements:\n",
        "1. $\\exists x\\ P(x)$.\n",
        "2. $\\forall x\\ P(x)$.\n",
        "3. $\\exists x\\ \\lnot P(x)$.\n",
        "4. $\\forall x\\ \\lnot P(x)$.\n",
        "5. $\\exists x\\ S(x)$.\n",
        "6. $\\forall x\\ S(x)$.\n",
        "7. $\\lnot \\exists x\\ S(x)$.\n",
        "8. $\\exists x\\ \\lnot S(x)$.\n",
        "9. $\\lnot \\forall x\\ \\lnot S(x)$.\n",
        "10. $\\forall x\\ \\lnot S(x)$."
      ]
    },
    {
      "cell_type": "markdown",
      "metadata": {
        "id": "U3RnL5QFbbhJ"
      },
      "source": [
        "#### Your Answer:\n",
        "\n",
        "∃x P(x)  \n",
        "→ Someone is older than 21.\n",
        "\n",
        "∀x P(x)  \n",
        "→ Everyone is older than 21.\n",
        "\n",
        "∃x ¬P(x)  \n",
        "→ Someone is not older than 21.\n",
        "\n",
        "∀x ¬P(x)  \n",
        "→ No one is older than 21.\n",
        "\n",
        "∃x S(x)  \n",
        "→ Someone is a student.\n",
        "\n",
        "∀x S(x)  \n",
        "→ Everyone is a student.\n",
        "\n",
        "¬∃x S(x)  \n",
        "→ There is no student.\n",
        "\n",
        "∃x ¬S(x)  \n",
        "→ There is someone who is not a student.\n",
        "\n",
        "¬∀x ¬S(x)  \n",
        "→ Not all people are non-students.\n",
        "\n",
        "∀x ¬S(x)  \n",
        "→ No one is a student.\n",
        "\n",
        "\n",
        "\n"
      ]
    },
    {
      "cell_type": "markdown",
      "metadata": {
        "id": "RbhFNi3Q1DAL"
      },
      "source": [
        "### Hints:"
      ]
    },
    {
      "cell_type": "markdown",
      "metadata": {
        "id": "nzeCSgXi1DAL"
      },
      "source": [
        "1. Don't use the word 'exists'.\n",
        "2. Don't use the word 'all'.\n",
        "3. Use the word `someone'.\n",
        "4. 'No one' sounds better than 'Everyone is not'.\n",
        "5. 'Some' \\<something\\> 'is a' \\<something else\\>.\n",
        "6. Start with 'Everyone'.\n",
        "7. Start with 'There is'.\n",
        "8. Start with 'There is'\n",
        "9. Start with 'No all'.\n",
        "10. Start with 'No one'."
      ]
    },
    {
      "cell_type": "markdown",
      "metadata": {
        "id": "rx97eFCvbbhK"
      },
      "source": [
        "### Exercise 2.4"
      ]
    },
    {
      "cell_type": "markdown",
      "metadata": {
        "id": "tCdbghBApIWA"
      },
      "source": [
        "The domain for this exercise is the set of all people, and:\n",
        "\n",
        "$F(x)$ = $\\ x$ is a friend\\\n",
        "$C(x)$ = $\\ x$ is cool\\\n",
        "$S(x)$ = $\\ x$ is a student\\\n",
        "$N(x)$ = $\\ x$ is from Nepal\n",
        "\n",
        "Express in good English the following statements:\n",
        "1. $\\forall x\\ (F(x) \\rightarrow C(x))\\ $\n",
        "2. $\\exists x\\ (F(x) \\land C(x))\\ $\n",
        "3. $\\forall x\\ (F(x) \\land C(x))\\ $\n",
        "4. $\\exists x\\ (F(x) \\rightarrow C(x))\\ $\n",
        "5. $\\forall x\\ (S(x) \\rightarrow N(x))\\ $\n",
        "6. $\\exists x\\ (S(x) \\rightarrow N(x))\\ $\n",
        "7. $\\forall x\\ (S(x) \\land N(x))\\ $\n",
        "8. $\\exists x\\ (S(x) \\land N(x))\\ $\n",
        ""
      ]
    },
    {
      "cell_type": "markdown",
      "metadata": {
        "id": "WUI_2rb3bbhK"
      },
      "source": [
        "#### Your Answer:\n",
        "\n",
        "1. **∀x (F(x) → C(x))**  \n",
        "**All friends are cool.**\n",
        "\n",
        "2. **∃x (F(x) ∧ C(x))**  \n",
        "**Someone is  both friends and cool.**\n",
        "\n",
        "3. **∀x (F(x) ∧ C(x))**  \n",
        "**Everyone is a friend and is cool.**\n",
        "\n",
        "4. **∃x (F(x) → C(x))**  \n",
        "**Some friends are cool.**\n",
        "\n",
        "5. **∀x (S(x) → N(x))**  \n",
        "**All students are from Nepal.**\n",
        "\n",
        "6. **∃x (S(x) → N(x))**  \n",
        "**Someone, if they are a student, then they are from Nepal.**\n",
        "\n",
        "7. **∀x (S(x) ∧ N(x))**  \n",
        "**Everyone is a student and is from Nepal.**\n",
        "\n",
        "8. **∃x (S(x) ∧ N(x))**  \n",
        "**Some student is from Nepal.**"
      ]
    },
    {
      "cell_type": "markdown",
      "metadata": {
        "id": "XiHihI8R1DAL"
      },
      "source": [
        "### Hints"
      ]
    },
    {
      "cell_type": "markdown",
      "metadata": {
        "id": "z2sdBcS81DAL"
      },
      "source": [
        "1. Start with 'All'.\n",
        "2. Start with 'Some'.\n",
        "3. Start with 'Everyone'.\n",
        "4. Start with 'Some'.\n",
        "5. Start with 'All'.\n",
        "6. Start with 'Someone' and use 'if' and 'then'.\n",
        "7. Start with 'Everyone'.\n",
        "8. 'Some student ...'."
      ]
    },
    {
      "cell_type": "markdown",
      "metadata": {
        "id": "ETtjI--dbbhK"
      },
      "source": [
        "### Exercise 2.5"
      ]
    },
    {
      "cell_type": "markdown",
      "metadata": {
        "id": "Hplq9f-xuh6p"
      },
      "source": [
        "Translate the following statements into logical expressions using predicates, quantifiers, and logical connectives:\n",
        "\n",
        "1. Everyone's a critic.\n",
        "2. No one is perfect.\n",
        "3. At least one of your friends is perfect.\n",
        "4. All of your friends are critics.\n",
        "5. Everyone is a critic or someone is your friend.\n",
        "6. No one is a critic and everyone is your friend.\n",
        "7. Some state has no neighboring states.\n",
        "8. Whenever there is an error, at least one error message is displayed.\n",
        "9. All the programs have been scanned, but at least one program has a virus."
      ]
    },
    {
      "cell_type": "markdown",
      "metadata": {
        "id": "ZGOyJc3MbbhL"
      },
      "source": [
        "#### Your Answer:\n",
        "\n",
        "1. ∀x C(x)  \n",
        "2. ∀x ¬P(x)  \n",
        "3. ∃x (F(x) ∧ P(x))  \n",
        "4. ∀x (F(x) → C(x))  \n",
        "5. (∀x C(x)) ∨ (∃x F(x))  \n",
        "6. (∀x ¬C(x)) ∧ (∀x F(x))  \n",
        "7. ∃x (S(x) ∧ ∀y ¬N(x, y))  \n",
        "8. ∀x (E(x) → ∃y (M(y) ∧ D(y, x)))  \n",
        "9. (∀x (Pr(x) → S(x))) ∧ (∃x (Pr(x) ∧ V(x)))  \n",
        "\n"
      ]
    },
    {
      "cell_type": "markdown",
      "metadata": {
        "id": "HMvUwGQu1DAM"
      },
      "source": [
        "### Hints"
      ]
    },
    {
      "cell_type": "markdown",
      "metadata": {
        "id": "LXPHJC7E1DAM"
      },
      "source": [
        "1. Use the predicates C (is a Critic), P (is Perfect), and F (is your Friend).\n",
        "2. Remember to push the negation sign to the right of the quantifier (and change the flavor of the quantifier).\n",
        "3. Remember which connective to use with the existential quantifier?\n",
        "4. Remember which connective to use with the universal quantifier?\n",
        "5. This looks like the disjunction of two quantified statements.\n",
        "6. This looks like the conjunction of two quantified statements, one of them negated.\n",
        "7. Use a unary *and* a binary predicate.\n",
        "8. There are two different domains at play here.\n",
        "9. Use three predicates with programs as their domain."
      ]
    },
    {
      "cell_type": "markdown",
      "metadata": {
        "id": "REcbbM1sbbhL"
      },
      "source": [
        "### Exercise 2.6"
      ]
    },
    {
      "cell_type": "markdown",
      "metadata": {
        "id": "IYh5WJzNbbhL"
      },
      "source": [
        "1. Write a function `is_even(x)` that returns `True` if `x` is even. (Assume the input to this function is an integer)\n",
        "\n",
        "   Test this function with several different values for `x` to make sure it is working the way you expect.\n",
        "\n",
        "   Notice that `is_even(x)` is a predicate. In other words, it is a function that returns `True` if the input `x` has the property defined by the predicate.\n",
        "\n",
        "\n",
        "2. Now write a function called `forall` that takes two parameters, `p` and `s`, where `p` is a predicate and `s` is a list of numbers. `forall` should return `True` if every item in `s` has the property `p`.\n",
        "\n",
        "   Test the `forall` function by passing in your `is_even` function as the first argument and the list `s = [2, 4, 6, 8, 10]` as the second argument. The result should be `True` because every number in `s` is even.\n",
        "\n",
        "   Then test the `forall` function by passing in your `is_even` function with the list `s = [1, 2, 3, 4, 5]`. The result should be `False`, because not *every* number in `s` is even.\n",
        "\n",
        "\n"
      ]
    },
    {
      "cell_type": "code",
      "execution_count": 14,
      "metadata": {
        "id": "SYx_KVvVbbhL"
      },
      "outputs": [],
      "source": [
        "# Define a predicate that returns True if x is even\n",
        "def is_even(x):\n",
        "    return x % 2 == 0\n",
        "\n",
        "\n",
        "# Returns True if p is True for all integers in s\n",
        "def forall(p, s):\n",
        "     for item in s:\n",
        "        if not p(item):\n",
        "            return False\n",
        "     return True\n"
      ]
    },
    {
      "cell_type": "markdown",
      "metadata": {
        "id": "CLHCWwQcbbhM"
      },
      "source": [
        "You'll know you have correctly implemented `forall` if the following code block returns True for each test."
      ]
    },
    {
      "cell_type": "code",
      "execution_count": 13,
      "metadata": {
        "id": "cyVrKWF1bbhM",
        "colab": {
          "base_uri": "https://localhost:8080/"
        },
        "outputId": "67660703-acf5-47ff-bc59-103174e6308f"
      },
      "outputs": [
        {
          "output_type": "stream",
          "name": "stdout",
          "text": [
            "True\n",
            "True\n"
          ]
        }
      ],
      "source": [
        "# Test forall and is_even with a list containing only even numbers\n",
        "s = [2, 4, 6, 8, 10]\n",
        "print(forall(is_even, s) == True)\n",
        "\n",
        "\n",
        "# Test forall and is_even with a list containing some numbers that are not even\n",
        "s = [1, 2, 3, 4, 5]\n",
        "print(forall(is_even, s) == False)"
      ]
    },
    {
      "cell_type": "markdown",
      "metadata": {
        "id": "k0sGA_WKbbhM"
      },
      "source": [
        "### Exercise 2.7"
      ]
    },
    {
      "cell_type": "markdown",
      "metadata": {
        "id": "WQw2MDn-bbhM"
      },
      "source": [
        "Write a function called `forsome` that takes a predicate `p` and a list `s`. `forsome` should return `True` if *at least one* number in the list `s` has the property `p`.\n",
        "\n",
        "Test the `forsome` function by passing in your `is_even` function as the first argument and the list `s = [1, 3, 5, 7, 9]` as the second argument. The result should be `False`.\n",
        "\n",
        "Then test the `forsome` function by passing in your `is_even` function with the list `s = [1,2,3,4,5,6]`. The result should be `True`, because at least one number in `s` is even."
      ]
    },
    {
      "cell_type": "code",
      "execution_count": 15,
      "metadata": {
        "id": "qr55mW46bbhM"
      },
      "outputs": [],
      "source": [
        "# Define a predicate that returns True if x is even\n",
        "def is_even(x):\n",
        "    return x % 2 == 0\n",
        "\n",
        "# Returns True if p is True for at least one item in s\n",
        "def forsome(p, s):\n",
        "    for item in s:\n",
        "        if p(item):\n",
        "            return True\n",
        "    return False\n"
      ]
    },
    {
      "cell_type": "markdown",
      "metadata": {
        "id": "tuWS-AFYbbhM"
      },
      "source": [
        "You'll know you have correctly implemented `forsome` if the following code block returns True for each test."
      ]
    },
    {
      "cell_type": "code",
      "execution_count": 16,
      "metadata": {
        "id": "PCwt3E_HbbhN",
        "colab": {
          "base_uri": "https://localhost:8080/"
        },
        "outputId": "63687871-492b-4551-de53-373acc3c2813"
      },
      "outputs": [
        {
          "output_type": "stream",
          "name": "stdout",
          "text": [
            "True\n",
            "True\n"
          ]
        }
      ],
      "source": [
        "# Test forsome and is_even with a list containing only odd numbers\n",
        "s = [1, 3, 5, 7, 9]\n",
        "print(forsome(is_even, s) == False)\n",
        "\n",
        "\n",
        "# Test forsome with a list containing some numbers that are even\n",
        "s = [1, 2, 3, 4, 5]\n",
        "print(forsome(is_even, s) == True)"
      ]
    },
    {
      "cell_type": "markdown",
      "metadata": {
        "id": "7vdH2GoxbbhN"
      },
      "source": [
        "### Exercise 2.8"
      ]
    },
    {
      "cell_type": "markdown",
      "metadata": {
        "id": "GLDGlDnebbhN"
      },
      "source": [
        "In this problem, the domain is the integers `[-5, -4, -3, -2, -1, 0, 1, 2, 3, 4, 5]`.\n",
        "\n",
        "(Remember the **domain** of a variable in a predicate is the set of all possible values for the variable.)\n",
        "\n",
        "Determine the truth value of each of the following:\n",
        "\n",
        "1. $\\forall x (\\texttt{x is odd})$\n",
        "\n",
        "1. $\\exists x (\\texttt{x is odd})$\n",
        "\n",
        "1. $\\forall x (\\texttt{x is negative})$\n",
        "\n",
        "1. $\\exists x (\\texttt{x is negative})$\n",
        "\n",
        "1. $\\forall x (x^2 - x \\ne 1)$\n",
        "\n",
        "1. $\\forall x (x^2 > 0)$\n",
        "\n",
        "1. $\\exists x (x^2 > 0)$\n",
        "\n",
        "1. $\\forall x (x \\le x + 1)$\n",
        "\n",
        "1. $\\exists x (x + x = 1)$\n",
        "\n",
        "1. $\\exists x (x + 2 = 1)$\n",
        "\n",
        "Then use your `forall` and `forsome` functions to determine the truth value of each statement. You will need to write a predicate function for each one, similar to the `is_even` function you wrote previously. (You are encouraged to use *lambda* functions, but you may also use regular named functions)\n",
        "\n",
        "Here's an example of using a *lambda* function for the first one:\n",
        "\n",
        "$\\forall x (\\texttt{x is odd})$\n",
        "\n",
        "In Python:\n",
        "\n",
        "```\n",
        "  domain = [-5, -4, -3, -2, -1, 0, 1, 2, 3, 4, 5]\n",
        "  print(forall(lambda x: x % 2, domain)) # prints True or False\n",
        "```"
      ]
    },
    {
      "cell_type": "code",
      "source": [
        "# Domain\n",
        "domain = list(range(-5, 6))  # [-5, -4, ..., 5]\n",
        "\n",
        "# Helper predicate functions\n",
        "def forall(p, s):\n",
        "    for item in s:\n",
        "        if not p(item):\n",
        "            return False\n",
        "    return True\n",
        "\n",
        "def forsome(p, s):\n",
        "    for item in s:\n",
        "        if p(item):\n",
        "            return True\n",
        "    return False\n",
        "\n",
        "# 1. ∀x(x is odd)\n",
        "print(\"1.\", forall(lambda x: x % 2 != 0, domain))  # False\n",
        "\n",
        "# 2. ∃x(x is odd)\n",
        "print(\"2.\", forsome(lambda x: x % 2 != 0, domain))  # True\n",
        "\n",
        "# 3. ∀x(x is negative)\n",
        "print(\"3.\", forall(lambda x: x < 0, domain))  # False\n",
        "\n",
        "# 4. ∃x(x is negative)\n",
        "print(\"4.\", forsome(lambda x: x < 0, domain))  # True\n",
        "\n",
        "# 5. ∀x(x^2 − x ≠ 1)\n",
        "print(\"5.\", forall(lambda x: (x**2 - x) != 1, domain))  # False (x = 1 and x = -1 make it 0)\n",
        "\n",
        "# 6. ∀x(x^2 > 0)\n",
        "print(\"6.\", forall(lambda x: x**2 > 0, domain))  # False (x = 0 → x^2 = 0)\n",
        "\n",
        "# 7. ∃x(x^2 > 0)\n",
        "print(\"7.\", forsome(lambda x: x**2 > 0, domain))  # True\n",
        "\n",
        "# 8. ∀x(x ≤ x+1)\n",
        "print(\"8.\", forall(lambda x: x <= x + 1, domain))  # True\n",
        "\n",
        "# 9. ∃x(x + x = 1)\n",
        "print(\"9.\", forsome(lambda x: x + x == 1, domain))  # True (x = 0.5, but 0.5 not in domain → False)\n",
        "\n",
        "# 10. ∃x(x + 2 = 1)\n",
        "print(\"10.\", forsome(lambda x: x + 2 == 1, domain))  # True (x = -1)\n"
      ],
      "metadata": {
        "colab": {
          "base_uri": "https://localhost:8080/"
        },
        "id": "dpM9Wcj6AuLN",
        "outputId": "cd45146f-02d9-44dd-fe12-7b9ce8a86f8f"
      },
      "execution_count": 17,
      "outputs": [
        {
          "output_type": "stream",
          "name": "stdout",
          "text": [
            "1. False\n",
            "2. True\n",
            "3. False\n",
            "4. True\n",
            "5. True\n",
            "6. False\n",
            "7. True\n",
            "8. True\n",
            "9. False\n",
            "10. True\n"
          ]
        }
      ]
    },
    {
      "cell_type": "markdown",
      "metadata": {
        "id": "iRX6sYjAbbhN"
      },
      "source": []
    },
    {
      "cell_type": "markdown",
      "metadata": {
        "id": "tWpt07z8bbhB"
      },
      "source": [
        "### Exercise 2.9"
      ]
    },
    {
      "cell_type": "markdown",
      "metadata": {
        "id": "X4vYB9bMntxh"
      },
      "source": [
        "Let $Q(x, y)$ be the statement &ldquo;$x$ asks $y$ a question&rdquo;, where the domain for both $x$ and $y$ consists of all students in a study group.\n",
        "\n",
        "Express each nested quantification as an English sentence.  (Hint: Use \"every\" and \"some\" (or \"at least one\")).\n",
        "\n",
        "1. $\\forall x \\exists y\\ Q(x, y)$.\n",
        "2. $\\forall x \\forall y\\ Q(x, y)$.\n",
        "3. $\\exists x \\exists y\\ Q(x, y)$.\n",
        "4. $\\exists x \\forall y\\ Q(x, y)$.\n",
        "5. $\\forall y \\exists x\\ Q(x, y)$.\n",
        "6. $\\exists y \\exists x\\ Q(x, y)$."
      ]
    },
    {
      "cell_type": "markdown",
      "metadata": {
        "id": "JIVFRE_KbbhC"
      },
      "source": [
        "#### Your Answer:\n",
        "\n",
        "1. Every student asks at least one student a question.  \n",
        "2. Every student asks every other student a question.  \n",
        "3. There is at least one student who asks at least one student a question.  \n",
        "4. There is at least one student who asks every other student a question.  \n",
        "5. Every student is asked a question by at least one student.  \n",
        "6. There is at least one student who is asked a question by at least one student.\n"
      ]
    },
    {
      "cell_type": "markdown",
      "metadata": {
        "id": "ElUxUNgabbhH"
      },
      "source": [
        "### Exercise 2.10\n",
        "Negate each of the following logical statements by adding a negation symbol $\\neg$, then apply De Morgan's Laws so that each negation symbol $\\neg$ immediately preceeds a predicate. For example:\n",
        "\n",
        "$\\forall x \\exists y P(x,y)$ when negated would become $\\exists x \\forall y \\neg P(x,y)$\n",
        "\n",
        "1. $ \\forall x \\forall y P(x,y) $\n",
        "2. $ \\exists x \\forall y P(x,y) $\n",
        "3. $ \\exists x \\exists y \\forall z \\neg P(x,y,z) $\n",
        "4. $ \\forall x \\exists y \\forall z P(x,y,z) $\n",
        "5. $ \\exists x \\exists y (P(x,y) \\land Q(x,y))$\n",
        "6. $ \\forall x \\forall y \\exists z (P(x,y) \\rightarrow Q(y,z))$\n"
      ]
    },
    {
      "cell_type": "markdown",
      "metadata": {
        "id": "vl6emiMdbbhI"
      },
      "source": [
        "#### Your Answer:\n",
        "\n",
        "1. ¬∀x∀y P(x, y)  \n",
        "   ≡ ∃x∃y ¬P(x, y)\n",
        "\n",
        "2. ¬∃x∀y P(x, y)  \n",
        "   ≡ ∀x∃y ¬P(x, y)\n",
        "\n",
        "3. ¬∃x∃y∀z ¬P(x, y, z)  \n",
        "   ≡ ∀x∀y∃z ¬¬P(x, y, z)  \n",
        "   ≡ ∀x∀y∃z P(x, y, z)\n",
        "\n",
        "4. ¬∀x∃y∀z P(x, y, z)  \n",
        "   ≡ ∃x∀y∃z ¬P(x, y, z)\n",
        "\n",
        "5. ¬∃x∃y (P(x, y) ∧ Q(x, y))  \n",
        "   ≡ ∀x∀y (¬P(x, y) ∨ ¬Q(x, y))\n",
        "\n",
        "6. ¬∀x∀y∃z (P(x, y) → Q(y, z))  \n",
        "   ≡ ∃x∃y∀z ¬(¬P(x, y) ∨ Q(y, z))  \n",
        "   ≡ ∃x∃y∀z (P(x, y) ∧ ¬Q(y, z))\n"
      ]
    },
    {
      "cell_type": "markdown",
      "metadata": {
        "id": "cka7gs7GBS72"
      },
      "source": [
        "### Exercise 2.11"
      ]
    },
    {
      "cell_type": "markdown",
      "metadata": {
        "id": "1S_jxnGHG83L"
      },
      "source": [
        "Express the following statements using quantifiers; then form the negation of the statement and simpify using De Morgan's Laws to move the negation symbol $\\lnot$ as far to the right as possible; then translate the negation into simple English.\n",
        "\n",
        "For example, the statement \"All dogs can bark\" is $\\forall x (Dog(x) \\rightarrow Bark(x))$. The negation is $\\neg \\forall x (Dog(x) \\rightarrow Bark(x))$. Applying De Morgan's Laws results in $\\exists x (Dog(x) \\wedge \\neg Bark(x))$. Expressed in English is \"Some dog cannot bark\" or \"There is a dog that cannot bark\".\n",
        "\n",
        "(Hint:  How do you negate a conditional? Remember $p \\rightarrow q \\equiv \\neg p \\lor q$ )\n",
        "\n",
        "1. All horses have hooves.\n",
        "2. No horse can fly.\n",
        "3. Every bat is blind.\n",
        "4. No bear can dance.\n",
        "5. There is at least one penguin that can swim and catch fish."
      ]
    },
    {
      "cell_type": "markdown",
      "metadata": {
        "id": "1TzQYrqxbbhE"
      },
      "source": [
        "#### Your Answer:\n",
        "\n",
        "## Negations with English Translation\n",
        "\n",
        "- **Negation (Logic):** ∃x (Horse(x) ∧ ¬HasHooves(x))  \n",
        "  **English:** Some horse does not have hooves.\n",
        "\n",
        "---\n",
        "\n",
        "- **Negation (Logic):** ∃x (Horse(x) ∧ CanFly(x))  \n",
        "  **English:** Some horse can fly.\n",
        "\n",
        "---\n",
        "\n",
        "- **Negation (Logic):** ∃x (Bat(x) ∧ ¬Blind(x))  \n",
        "  **English:** Some bat is not blind.\n",
        "\n",
        "---\n",
        "\n",
        "- **Negation (Logic):** ∃x (Bear(x) ∧ CanDance(x))  \n",
        "  **English:** Some bear can dance.\n",
        "\n",
        "---\n",
        "\n",
        "- **Negation (Logic):** ∀x (Penguin(x) → (¬CanSwim(x) ∨ ¬CanCatchFish(x)))  \n",
        "  **English:** No penguin cannot swim or cannot catch fish.\n"
      ]
    },
    {
      "cell_type": "markdown",
      "metadata": {
        "id": "RA3nTBfMYYUm"
      },
      "source": [
        "### Exercise 2.12"
      ]
    },
    {
      "cell_type": "markdown",
      "metadata": {
        "id": "mUnYPiOenuSk"
      },
      "source": [
        "Translate the following into English, then determine the truth values of each statement. Assume the domain for $x$ and $y$ is $\\mathbb{Z}$ ($\\mathbb{Z}$ represents the integers).\n",
        "1. $\\forall x \\forall y\\ (((x \\ne 0) \\land (y \\ne 0)) \\leftrightarrow (xy \\ne 0))$.\n",
        "2. $\\exists x \\forall y\\ (x + y > y)$.\n",
        "3. $\\exists x \\forall y\\ (x + y < y)$.\n",
        "4. $\\exists x \\forall y\\ (x + y = y)$.\n",
        "5. $\\exists x \\exists y (x + y = xy)$."
      ]
    },
    {
      "cell_type": "markdown",
      "metadata": {
        "id": "gSFYT4EHbbhF"
      },
      "source": [
        "#### Your Answer:\n",
        "\n",
        "\n",
        "1. The product of any two non-zero integers is non-zero and conversely, if the product of two numbers is non-zero, both numbers are non-zero. True\n",
        "2. There is a number that when added to any number will result in a larger number. True. Pick any positive number for x.\n",
        "3. There is a number that when added to any number will result in a smaller number. True. Pick any negative number for x.\n",
        "4. There is a number that when added to any number will result in that same number. True. Pick x=0.\n",
        "5. There are two numbers whose sum is equal to their product. True. Pick x=0 and y=0.\n"
      ]
    },
    {
      "cell_type": "markdown",
      "metadata": {
        "id": "HCjgnJwTbbhN"
      },
      "source": [
        "----------------------\n",
        "## Sample Solutions\n",
        "\n",
        "**Note**:\n",
        "Sample solutions are provided in order to help you **learn**. The purpose of these exercises is not to simply turn in the answers, but to take the time and effort to learn and understand the material. You are encouraged to work the problems first, then when you are satisfied that you have the correct answer, look at the sample solution and compare it with yours."
      ]
    },
    {
      "cell_type": "markdown",
      "metadata": {
        "id": "8fCpH6Mm1DAU"
      },
      "source": [
        "### Sample Solution 2.1"
      ]
    },
    {
      "cell_type": "markdown",
      "metadata": {
        "id": "OV4hpAXp1DAU"
      },
      "source": [
        "Truth table:\n",
        "\n",
        "$p$ | $q$ | $$p \\rightarrow q$$ | $$\\lnot p \\rightarrow \\lnot q$$ | $$q \\rightarrow p $$ | $$\\lnot q \\rightarrow \\lnot p$$\n",
        ":-:|:-:|:-:|:-:|:-:|:-:|\n",
        "T|T|T|T|T|T\n",
        "T|F|F|T|T|F\n",
        "F|T|T|F|F|T\n",
        "F|F|T|T|T|T\n",
        "\n",
        "\n",
        "1. Conditional and its contrapositive: $p \\rightarrow q \\equiv \\lnot q \\rightarrow \\lnot p$\n",
        "   \n",
        "   Inverse and Converse: $\\lnot p \\rightarrow \\lnot q \\equiv q \\rightarrow p$\n",
        "\n",
        "2. True. $\\lnot p \\lor q$ is logically equivalent to $p \\rightarrow q$. We can show this using a truth table.\n",
        "\n",
        "3. False.  $\\lnot(p \\rightarrow q)$ is NOT the same as $ \\lnot p \\rightarrow \\lnot q$. We can show this using a truth table.\n",
        "\n",
        "4. An equivalent statement to $\\lnot(p \\rightarrow q)$ is $\\lnot (\\lnot p \\lor q)$, which we can simplify using De Morgan's Laws to $p \\land \\lnot q$.\n",
        "\n"
      ]
    },
    {
      "cell_type": "markdown",
      "metadata": {
        "id": "XEHj8dLR1DAU"
      },
      "source": [
        "### Sample Solution 2.2"
      ]
    },
    {
      "cell_type": "markdown",
      "metadata": {
        "id": "9hgTWqmQ1DAU"
      },
      "source": [
        "1. $p \\land r$ \\\n",
        "Negated: $(\\lnot p \\lor \\lnot r)$ \\\n",
        "English: A rider is not older than 12 years old or is not taller than 48\".\n",
        "\n",
        "2. $q \\lor r$ \\\n",
        "Negated: $(\\lnot q \\land \\lnot r)$ \\\n",
        "English: A rider is not older than 18 years old and is not taller than 48\".\n",
        "\n",
        "3. $q \\land \\lnot r$ \\\n",
        "Negated: $(\\lnot q \\lor r)$ \\\n",
        "English: A rider is not older than 18 years old or is taller than 48\"."
      ]
    },
    {
      "cell_type": "markdown",
      "metadata": {
        "id": "VLX8rWBP1DAU"
      },
      "source": [
        "### Sample Solution 2.3"
      ]
    },
    {
      "cell_type": "markdown",
      "metadata": {
        "id": "isvl0Tvh1DAV"
      },
      "source": [
        "1. Somebody is older than 21.\n",
        "2. Everyone is older than 21.\n",
        "3. Someone is not older than 21.\n",
        "4. No one is older than 21.\n",
        "5. Someone (or some person) is a student.\n",
        "6. Everyone is a student.\n",
        "7. There is no student.\n",
        "8. There is someone who is not a student.\n",
        "9. Not all people are non-students.\n",
        "10. No one is a student."
      ]
    },
    {
      "cell_type": "markdown",
      "metadata": {
        "id": "ZtPmuxvi1DAV"
      },
      "source": [
        "### Sample Solution 2.4"
      ]
    },
    {
      "cell_type": "markdown",
      "metadata": {
        "id": "IvP40ETx1DAV"
      },
      "source": [
        "1. All friends are cool.\n",
        "2. Someone is a friend and is cool.\n",
        "3. Everyone is a friend and is cool.\n",
        "4. Some friends are cool. (Better than 'For some person, if that person is a friend, then that person is cool.')\n",
        "5. All students are from Nepal.\n",
        "6. Someone, if he/she is a student then he/she is from Nepal. (Better than 'For some person, if that person is a student, then that student is from Nepal.)\n",
        "7. Everyone is a student and is from Nepal.\n",
        "8. Some student is from Nepal."
      ]
    },
    {
      "cell_type": "markdown",
      "metadata": {
        "id": "WBSv6bNv1DAV"
      },
      "source": [
        "### Sample Solution 2.5"
      ]
    },
    {
      "cell_type": "markdown",
      "metadata": {
        "id": "EhkiLsWf1DAV"
      },
      "source": [
        "\n",
        "1. $\\forall x\\ C(x)$\n",
        "2. $\\forall x\\ \\lnot P(x)$\n",
        "3. $\\exists x\\ (F(x) \\land P(x))$\n",
        "4. $\\forall x\\ (F(x) \\rightarrow C(x))$\n",
        "5. $\\forall x\\ C(x) \\lor \\exists x\\ F(x)$\n",
        "6. $\\lnot \\exists x\\ C(x) \\land \\forall x\\ F(x)$\n",
        "7. $\\exists x\\ State(x) \\land (\\forall y\\ State(y) \\rightarrow \\lnot ShareABorder(x, y))$\n",
        "8. $\\exists x\\ is\\_an\\_Error(x) \\rightarrow (\\exists y\\ is\\_an\\_error\\_Message(y) \\land is\\_Displayed(y))$\n",
        "9. $[\\forall x\\ (is\\_a\\_Program(x) \\rightarrow has\\_been\\_Scanned(x))] \\land [\\exists x\\ (is\\_a\\_Program(x) \\land has\\_a\\_Virus(x))]$\n"
      ]
    },
    {
      "cell_type": "markdown",
      "metadata": {
        "id": "ArYM3W_B1DAV"
      },
      "source": [
        "### Sample Solution 2.6"
      ]
    },
    {
      "cell_type": "code",
      "execution_count": null,
      "metadata": {
        "id": "SsWkrMtfbbhQ"
      },
      "outputs": [],
      "source": [
        "\n",
        "def is_even(x):\n",
        "    return not(x % 2)\n",
        "\n",
        "def forall(p, s):\n",
        "    for x in s:\n",
        "        if not p(x):\n",
        "            return False\n",
        "    return True"
      ]
    },
    {
      "cell_type": "markdown",
      "metadata": {
        "id": "LvKgjNV71DAV"
      },
      "source": [
        "### Sample Solution 2.7"
      ]
    },
    {
      "cell_type": "code",
      "execution_count": null,
      "metadata": {
        "id": "wGCEaranbbhQ"
      },
      "outputs": [],
      "source": [
        "def forsome(p, s):\n",
        "    for x in s:\n",
        "        if p(x):\n",
        "            return True\n",
        "    return False"
      ]
    },
    {
      "cell_type": "markdown",
      "metadata": {
        "id": "ZEr6NB-Z1DAV"
      },
      "source": [
        "### Sample Solution 2.8"
      ]
    },
    {
      "cell_type": "code",
      "execution_count": null,
      "metadata": {
        "id": "Piw7uyzdbbhQ"
      },
      "outputs": [],
      "source": [
        "domain = list(range(-5, 6))\n",
        "\n",
        "print(f'1. {forall(lambda x: x % 2, domain)}')\n",
        "print(f'2. {forsome(lambda x: x % 2, domain)}')\n",
        "print(f'3. {forall(lambda x: x < 0, domain)}')\n",
        "print(f'4. {forsome(lambda x: x < 0, domain)}')\n",
        "print(f'5. {forall(lambda x: x**2 - x != 1, domain)}')\n",
        "print(f'6. {forall(lambda x: x**2 > 0, domain)}')\n",
        "print(f'7. {forsome(lambda x: x**2 > 0, domain)}')\n",
        "print(f'8. {forall(lambda x: x <= x + 1, domain)}')\n",
        "print(f'9. {forsome(lambda x: x + x == 1, domain)}')\n",
        "print(f'10. {forsome(lambda x: x + 2 == 1, domain)}')\n"
      ]
    },
    {
      "cell_type": "markdown",
      "metadata": {
        "id": "a-oOAV1n1DAW"
      },
      "source": [
        "### Sample Solution 2.9"
      ]
    },
    {
      "cell_type": "markdown",
      "metadata": {
        "id": "WQIfdSnM1DAW"
      },
      "source": [
        "1. Every student asks some student a question.\n",
        "2. Every student asks every student a question.\n",
        "3. Some student asks at least one student a question.\n",
        "4. Some student asks every student a question.\n",
        "5. Every student is asked a question by some (or at least one) student.\n",
        "6. Some student asks some student a question. (Another way to say the answer to 3.)"
      ]
    },
    {
      "cell_type": "markdown",
      "metadata": {
        "id": "_u5LKZxy1DAW"
      },
      "source": [
        "### Sample Solution 2.10"
      ]
    },
    {
      "cell_type": "markdown",
      "metadata": {
        "id": "Hq8zPGWh1DAW"
      },
      "source": [
        "1. $\\exists x \\exists y \\neg P(x,y)$\n",
        "2. $\\forall x \\exists y \\neg P(x,y)$\n",
        "5. $\\forall x \\forall y \\exists z P(x,y,z)$\n",
        "6. $\\exists x \\forall y \\exists z \\neg P(x,y,z)$\n",
        "4. $\\forall x \\forall y (\\neg P(x,y) \\lor \\neg Q(x,y))$\n",
        "3. $\\exists x \\exists y \\forall z (P(x,y) \\land \\neg Q(y,z))$"
      ]
    },
    {
      "cell_type": "markdown",
      "metadata": {
        "id": "QGKdQuRw1DAW"
      },
      "source": [
        "### Sample Solution 2.11"
      ]
    },
    {
      "cell_type": "markdown",
      "metadata": {
        "id": "t9nN4ByY1DAW"
      },
      "source": [
        "1. $\\forall x\\ H(x) \\rightarrow V(x)$; negated is $\\exists x\\ H(x) \\land \\lnot V(x)$ = 'Some horse does not have hooves.'\n",
        "2. $\\forall x\\ H(x) \\rightarrow \\lnot F(x)$; negated is $\\exists x\\ H(x) \\land F(x) =$ 'Some horse can fly'.\n",
        "3. $\\forall x\\ Bat(x) \\rightarrow Blind(x)$; negated is $\\exists x\\ Bat(x) \\land \\lnot Blind(x) =$ 'Some bat is not blind'.\n",
        "4. $\\forall x\\ B(x) \\rightarrow \\lnot D(x)$; negated is $\\exists x\\ B(x) \\land D(x) =$ 'Some bear can dance'.\n",
        "5. $\\exists x\\ Penguin(x) \\land can\\_Swim(x) \\land can\\_Catch\\_Fish(x)$; negated is $\\forall x\\ \\lnot Penguin(x) \\lor \\lnot can\\_Swim(x) \\lor \\lnot can\\_Catch\\_Fish(x) = $ 'Everything is either a non-penguin or a non-swimmer or a non-fish-catcher' (or better: 'No penguin can swim and catch fish').\n"
      ]
    },
    {
      "cell_type": "markdown",
      "metadata": {
        "id": "9V16gFUa1DAW"
      },
      "source": [
        "### Sample Solution 2.12"
      ]
    },
    {
      "cell_type": "markdown",
      "metadata": {
        "id": "tucZpT8t1DAW"
      },
      "source": [
        "1. The product of any two non-zero integers is non-zero and conversely, if the product of two numbers is non-zero, both numbers are non-zero. True\n",
        "2. There is a number that when added to any number will result in a larger number. True. Pick any positive number for x.\n",
        "3. There is a number that when added to any number will result in a smaller number. True. Pick any negative number for x.\n",
        "4. There is a number that when added to any number will result in that same number. True. Pick x=0.\n",
        "5. There are two numbers whose sum is equal to their product. True. Pick x=0 and y=0."
      ]
    }
  ],
  "metadata": {
    "colab": {
      "collapsed_sections": [
        "HCjgnJwTbbhN"
      ],
      "name": "cse280-homework-02.ipynb",
      "provenance": [],
      "toc_visible": true
    },
    "kernelspec": {
      "display_name": "Python 3.9.0 ('.env': venv)",
      "language": "python",
      "name": "python3"
    },
    "language_info": {
      "codemirror_mode": {
        "name": "ipython",
        "version": 3
      },
      "file_extension": ".py",
      "mimetype": "text/x-python",
      "name": "python",
      "nbconvert_exporter": "python",
      "pygments_lexer": "ipython3",
      "version": "3.9.0"
    },
    "vscode": {
      "interpreter": {
        "hash": "1977c1262a5a71e57f8e1e2a9337f4268800bf2d1a595fc1ecb322ccb8b2351d"
      }
    }
  },
  "nbformat": 4,
  "nbformat_minor": 0
}